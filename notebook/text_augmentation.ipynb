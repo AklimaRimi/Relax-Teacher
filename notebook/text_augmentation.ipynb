{
  "nbformat": 4,
  "nbformat_minor": 0,
  "metadata": {
    "colab": {
      "provenance": [],
      "include_colab_link": true
    },
    "kernelspec": {
      "name": "python3",
      "display_name": "Python 3"
    },
    "language_info": {
      "name": "python"
    },
    "accelerator": "GPU",
    "gpuClass": "standard"
  },
  "cells": [
    {
      "cell_type": "markdown",
      "metadata": {
        "id": "view-in-github",
        "colab_type": "text"
      },
      "source": [
        "<a href=\"https://colab.research.google.com/github/AklimaRimi/online-class/blob/main/text_augmentation.ipynb\" target=\"_parent\"><img src=\"https://colab.research.google.com/assets/colab-badge.svg\" alt=\"Open In Colab\"/></a>"
      ]
    },
    {
      "cell_type": "code",
      "execution_count": 1,
      "metadata": {
        "id": "DLNAzhrVJ1If",
        "outputId": "980b34ae-1065-4c3d-d411-5a4afbaa01fa",
        "colab": {
          "base_uri": "https://localhost:8080/"
        }
      },
      "outputs": [
        {
          "output_type": "stream",
          "name": "stdout",
          "text": [
            "fatal: destination path 'online-class' already exists and is not an empty directory.\n"
          ]
        }
      ],
      "source": [
        "! git clone https://github.com/AklimaRimi/online-class.git"
      ]
    },
    {
      "cell_type": "code",
      "source": [
        "! pip install -q transformers"
      ],
      "metadata": {
        "id": "TLpQxpbHbjlm"
      },
      "execution_count": 5,
      "outputs": []
    },
    {
      "cell_type": "code",
      "source": [
        "import pandas as pd\n"
      ],
      "metadata": {
        "id": "l0mIvnMuWUhv"
      },
      "execution_count": 2,
      "outputs": []
    },
    {
      "cell_type": "code",
      "source": [
        "from transformers import pipeline\n",
        "import torch"
      ],
      "metadata": {
        "id": "z0Gp0fIVbgvb"
      },
      "execution_count": 6,
      "outputs": []
    },
    {
      "cell_type": "code",
      "source": [
        "df = pd.read_csv('/content/online-class/data/final.csv')\n",
        "df.head()"
      ],
      "metadata": {
        "id": "Ttcz0yg2Xqn-",
        "outputId": "2bdc6ba6-6dbc-4900-cc52-aeac93f29939",
        "colab": {
          "base_uri": "https://localhost:8080/",
          "height": 206
        }
      },
      "execution_count": 3,
      "outputs": [
        {
          "output_type": "execute_result",
          "data": {
            "text/plain": [
              "                                                   x           y\n",
              "0   Crash Course Philosophy is brought to you by ...  Philosophy\n",
              "1   Remember Cecil the Lion? A lot of people were...  Philosophy\n",
              "2   What is a game? Easy question, right? You kno...  Philosophy\n",
              "3   Should Batman kill the Joker? If you were to ...  Philosophy\n",
              "4   Crash Course Philosophy is brought to you by ...  Philosophy"
            ],
            "text/html": [
              "\n",
              "  <div id=\"df-267cd83f-deff-4b90-b678-f3e168980c2f\">\n",
              "    <div class=\"colab-df-container\">\n",
              "      <div>\n",
              "<style scoped>\n",
              "    .dataframe tbody tr th:only-of-type {\n",
              "        vertical-align: middle;\n",
              "    }\n",
              "\n",
              "    .dataframe tbody tr th {\n",
              "        vertical-align: top;\n",
              "    }\n",
              "\n",
              "    .dataframe thead th {\n",
              "        text-align: right;\n",
              "    }\n",
              "</style>\n",
              "<table border=\"1\" class=\"dataframe\">\n",
              "  <thead>\n",
              "    <tr style=\"text-align: right;\">\n",
              "      <th></th>\n",
              "      <th>x</th>\n",
              "      <th>y</th>\n",
              "    </tr>\n",
              "  </thead>\n",
              "  <tbody>\n",
              "    <tr>\n",
              "      <th>0</th>\n",
              "      <td>Crash Course Philosophy is brought to you by ...</td>\n",
              "      <td>Philosophy</td>\n",
              "    </tr>\n",
              "    <tr>\n",
              "      <th>1</th>\n",
              "      <td>Remember Cecil the Lion? A lot of people were...</td>\n",
              "      <td>Philosophy</td>\n",
              "    </tr>\n",
              "    <tr>\n",
              "      <th>2</th>\n",
              "      <td>What is a game? Easy question, right? You kno...</td>\n",
              "      <td>Philosophy</td>\n",
              "    </tr>\n",
              "    <tr>\n",
              "      <th>3</th>\n",
              "      <td>Should Batman kill the Joker? If you were to ...</td>\n",
              "      <td>Philosophy</td>\n",
              "    </tr>\n",
              "    <tr>\n",
              "      <th>4</th>\n",
              "      <td>Crash Course Philosophy is brought to you by ...</td>\n",
              "      <td>Philosophy</td>\n",
              "    </tr>\n",
              "  </tbody>\n",
              "</table>\n",
              "</div>\n",
              "      <button class=\"colab-df-convert\" onclick=\"convertToInteractive('df-267cd83f-deff-4b90-b678-f3e168980c2f')\"\n",
              "              title=\"Convert this dataframe to an interactive table.\"\n",
              "              style=\"display:none;\">\n",
              "        \n",
              "  <svg xmlns=\"http://www.w3.org/2000/svg\" height=\"24px\"viewBox=\"0 0 24 24\"\n",
              "       width=\"24px\">\n",
              "    <path d=\"M0 0h24v24H0V0z\" fill=\"none\"/>\n",
              "    <path d=\"M18.56 5.44l.94 2.06.94-2.06 2.06-.94-2.06-.94-.94-2.06-.94 2.06-2.06.94zm-11 1L8.5 8.5l.94-2.06 2.06-.94-2.06-.94L8.5 2.5l-.94 2.06-2.06.94zm10 10l.94 2.06.94-2.06 2.06-.94-2.06-.94-.94-2.06-.94 2.06-2.06.94z\"/><path d=\"M17.41 7.96l-1.37-1.37c-.4-.4-.92-.59-1.43-.59-.52 0-1.04.2-1.43.59L10.3 9.45l-7.72 7.72c-.78.78-.78 2.05 0 2.83L4 21.41c.39.39.9.59 1.41.59.51 0 1.02-.2 1.41-.59l7.78-7.78 2.81-2.81c.8-.78.8-2.07 0-2.86zM5.41 20L4 18.59l7.72-7.72 1.47 1.35L5.41 20z\"/>\n",
              "  </svg>\n",
              "      </button>\n",
              "      \n",
              "  <style>\n",
              "    .colab-df-container {\n",
              "      display:flex;\n",
              "      flex-wrap:wrap;\n",
              "      gap: 12px;\n",
              "    }\n",
              "\n",
              "    .colab-df-convert {\n",
              "      background-color: #E8F0FE;\n",
              "      border: none;\n",
              "      border-radius: 50%;\n",
              "      cursor: pointer;\n",
              "      display: none;\n",
              "      fill: #1967D2;\n",
              "      height: 32px;\n",
              "      padding: 0 0 0 0;\n",
              "      width: 32px;\n",
              "    }\n",
              "\n",
              "    .colab-df-convert:hover {\n",
              "      background-color: #E2EBFA;\n",
              "      box-shadow: 0px 1px 2px rgba(60, 64, 67, 0.3), 0px 1px 3px 1px rgba(60, 64, 67, 0.15);\n",
              "      fill: #174EA6;\n",
              "    }\n",
              "\n",
              "    [theme=dark] .colab-df-convert {\n",
              "      background-color: #3B4455;\n",
              "      fill: #D2E3FC;\n",
              "    }\n",
              "\n",
              "    [theme=dark] .colab-df-convert:hover {\n",
              "      background-color: #434B5C;\n",
              "      box-shadow: 0px 1px 3px 1px rgba(0, 0, 0, 0.15);\n",
              "      filter: drop-shadow(0px 1px 2px rgba(0, 0, 0, 0.3));\n",
              "      fill: #FFFFFF;\n",
              "    }\n",
              "  </style>\n",
              "\n",
              "      <script>\n",
              "        const buttonEl =\n",
              "          document.querySelector('#df-267cd83f-deff-4b90-b678-f3e168980c2f button.colab-df-convert');\n",
              "        buttonEl.style.display =\n",
              "          google.colab.kernel.accessAllowed ? 'block' : 'none';\n",
              "\n",
              "        async function convertToInteractive(key) {\n",
              "          const element = document.querySelector('#df-267cd83f-deff-4b90-b678-f3e168980c2f');\n",
              "          const dataTable =\n",
              "            await google.colab.kernel.invokeFunction('convertToInteractive',\n",
              "                                                     [key], {});\n",
              "          if (!dataTable) return;\n",
              "\n",
              "          const docLinkHtml = 'Like what you see? Visit the ' +\n",
              "            '<a target=\"_blank\" href=https://colab.research.google.com/notebooks/data_table.ipynb>data table notebook</a>'\n",
              "            + ' to learn more about interactive tables.';\n",
              "          element.innerHTML = '';\n",
              "          dataTable['output_type'] = 'display_data';\n",
              "          await google.colab.output.renderOutput(dataTable, element);\n",
              "          const docLink = document.createElement('div');\n",
              "          docLink.innerHTML = docLinkHtml;\n",
              "          element.appendChild(docLink);\n",
              "        }\n",
              "      </script>\n",
              "    </div>\n",
              "  </div>\n",
              "  "
            ]
          },
          "metadata": {},
          "execution_count": 3
        }
      ]
    },
    {
      "cell_type": "code",
      "source": [
        "df['x'][91]"
      ],
      "metadata": {
        "id": "Ezlsg-Yac0Rw",
        "outputId": "c39204f8-c667-4332-a385-5aa2510152fe",
        "colab": {
          "base_uri": "https://localhost:8080/",
          "height": 123
        }
      },
      "execution_count": 4,
      "outputs": [
        {
          "output_type": "execute_result",
          "data": {
            "text/plain": [
              "\" A lot of people have noted that astronomy is a humbling enterprise to pursue. After all, every time we make a new discovery, we find ourselves further removed from importance. The Earth is about one planet among many, orbiting a sun that is one star among hundreds of billions, out in the suburbs of a galaxy that is one among hundreds of billions more. It's easy to feel pretty small when you see all that magnificence out there. And we astronomers keep making it worse, because now we know that what we can see isn't even everything there is. Normal matter. The stuff that makes up you and me and all we observe in the universe, that's only a small fraction of what's actually out there. It's time we talk about some very, very dark matters. In the 1960s and 1970s, astronomer Vera Rubin was observing spiral galaxies. She was interested in how they rotate because you can learn a lot about a galaxy that way. Think about the solar system. Back in the 1600s, Johannes Kepler figured out the farther a planet is from the Sun, the slower it orbits. Isaac Newton put numbers to that, calculating the strength of the Sun's gravity, which means we could in turn get the Sun's mass, same with galaxies. If you can measure how they rotate, how rapidly gas clouds move in their orbits near the edge of the galaxy, for example, you can calculate the mass of the entire galaxy. Galaxies are so big that you can't physically see the nebulae move, but you can measure their Doppler shift, which gives you their velocity. What Ruben expected to see was that the farther out from the center of the galaxy the gas cloud was, the slower it would be moving, just like more distant planets from the sun moved more slowly in their orbits. What she got though was the opposite. For many galaxies, the farther out from the center you went, the faster the clouds were moving. Even at best, the velocities flattened out with distance when they should have declined. That meant the gravity of the galaxies was constant throughout the disk, not dropping from the center as you'd expect. But that's bizarre. Images of the galaxies show that the number of stars and other massive objects clearly got lower the farther from the center you went. There simply isn't enough mass far out from the center to account for the rapid rotation rates, or not enough mass from things we can see. The only explanation is that there must be dark material contributing to the gravity, something besides stars, gas, and dust. Not only that, the galaxy must be embedded in a halo of this material to get the shapes of the rotation graphs right, and there must be a lot of it. Rubin found that there must be five or six times as much of this invisible material than the visible matter in galaxies. Back in the 1930s, astronomer Fritz Swicky had drawn a similar conclusion measuring the speeds of galaxies in galaxy clusters. The member galaxies were moving too quickly to stay in the cluster. At the measured speeds, they should have been flung off. Therefore, he concluded, there must be far more gravity in the clusters than just from the visible material. It turns out, Swicky's observations had way too much uncertainty in them to make any solid claims. He hugely overestimated the amount of invisible material. Ruben's observations were far, far better, and more accurate. However, the terms Wwicky used to dub this mysterious material stuck, and we still use it. Dark matter. Over the years, more observations have only confirmed Ruben's measurements. We see similar behavior in elliptical galaxies, for example. Ironically, better measurements made of galaxy cluster member velocities show they do in fact move too quickly, and clusters must have dark matter in them too. Zwicky was right for the wrong reason, and in the end, Ruben is credited for making the discovery. Of course, the idea that so much of the material in the universe must be dark was met with skepticism by astronomers. Everything gives off some kind of light, but more observations just kept supporting the existence of dark matter. So what is dark matter? That was the big question. Astronomers were methodical. They listed every single thing they could think of that dark matter could possibly be. Cold gas, dust, dead stars, rogue planets, everything. Even weird subatomic particles that were predicted to exist in quantum mechanics series, but never seen before. Then they thought of ways they could detect these objects. Cold gas would emit radio waves, for example. But everything they tried came up empty. One by one, they crossed objects off the list. And eventually, everything made of normal matter. Adams and Molecules, Proton's, Electrons, and Neutrons was eliminated. All that was left on the list was that truly bizarre stuff, those screwy subatomic particles known it ever seen before. One such particle is called an axion. They've never been detected, but their properties match what we see of dark matter. Axions have mass, so if you have a huge cloud of them, they'll have enough gravity to affect galaxies. They don't tend to emit much light, so even a huge cloud of them would be dark. And they have another weird property. They don't interact with normal matter terribly well. And Axion would pass right through you like you weren't there. If dark matter were made of Axion's, then clouds of it can be enveloping clusters of galaxies, and we'd never see them. If that's the case, how could we ever know if they're there or not? It turns out there is a way. But before I talk about that, we have to go over something pretty weird. Actually, several something's weird. As I mentioned in our black hole episode, one of Albert Einstein's big ideas was that space wasn't just emptiness between stars. In a sense, it was an actual thing, with all of matter and energy embedded in it. Although you have to be careful not to take the analogy too literally. In many ways, it acts like a fabric with everything stuck to it. This is more than just a theoretical construct. It has real implications. For one, what we perceive is gravity, the force pulling two objects together, was actually just a bending of this fabric of space, a warp. It's like a bowling ball sitting on a soft mattress. The surface of the mattress bends, and if you roll a marble past it, the path of the marble will curve. This is true for light, too. It's like having a bend in the road. Cars follow the bend as they move and truck to do, too. Everything does. With light, it doesn't bend nearly as much as matter does, but it does curve if it moves through space distorted by gravity. The more massive an object is, the more gravity it has, the more it warp space, and the more it can warp the path of a light beam. You know what else bends light? Oh lens. So we call this effect gravitational lensing. Now picture a cluster of galaxies. It has a lot of mass in a relatively small space. Well, in cosmic terms. If there's a galaxy on the other side of the cluster from this much farther away, the light that more distant galaxy sends out gets bent on its way to us. The image of the galaxy can get smeared out, distorted, forming fantastic and weird shapes. Einstein's equations tell us that the amount of bending depends on the mass of the cluster. So we can, in theory, measure the mass of the cluster by the distortion of objects behind it. Not only that, but it gives us a map of where that mass is. Astronomers use this method on a cluster of galaxies located about 3.5 billion light years away, called the bullet cluster. It's a very special object. It's actually not just a cluster, but a collision of two clusters. That's right. Two huge groups of galaxies are physically colliding and may eventually merge the form one, huge or cluster. When galaxies collide, they tend to pass through each other like ghosts. But in clusters between the galaxies, there are vast amounts of gas. When clusters collide, the gas in the two clusters does indeed smack into each other and gets incredibly hot. So hot, in fact, the gas will emit x-rays. This provides an interesting opportunity. Optical light images show the two clusters next to each other. They've already done one pass, in fact. The galaxies move through each other as expected. The gas and the clusters can't do that, though, so you'd expect most of it to be between the galaxies. Having slowed down as the clouds collided with each other more or less head-on. Using the Chandra X-ray Observatory, astronomers could map out where that hot gas was. And, as expected, it lies mostly between the galaxies, having slowed down after the collision. You can even see how the collision has shaped the gas, forming a bow shock in one cluster like the waves of water created by a rapidly moving boat. But there's more. Even though the bullet cluster is very far away, there are actually hundreds of galaxies even farther away gives the mass and the bullet cluster was made, including dark matter. If dark matter is made of axions, then you'd expect it to mostly be surrounding the subclusters themselves, because like the galaxies, the clouds of dark matter axions would pass right through each other. And when you do make the map, that's exactly what you see. The background galaxy show there's a lot of matter shown here in Violet centered on the two clusters, but it's clearly not the hot gas seen by Chandra and is giving off no light. It looks very much like dark matter. Since the bullet cluster observations were made, several other clusters have been observed showing the same sort of behavior. Attempts have been made to explain these clusters without using dark matter, but in the end the simplest explanation looks to be the best one. The stuff we see isn't all the stuff there is. To be honest, we still don't know what dark matter is. Axions are one possibility, but others exist. Lots of experiments have been set up to try to detect the various flavors of subatomic particles, but the very nature of dark matter. It doesn't give off light and doesn't interact well with normal matter. Makes it really hard to find. That's why it took so long to even know it existed in the first place. But even though it's incredibly elusive, it turns out that dark matter has had a profound effect on the universe. As we'll see in upcoming episodes, we're getting a pretty good idea of how the universe got its start and how it's evolved over the eons. We think smaller objects formed first, clumping together into larger and larger structures. So stars formed first, then galaxies, then clusters. It turns out that larger structures would have had a hard time forming in the early universe as energy was blasted out by the newborn stars and galaxies. Bigger stuff couldn't aggregate due to all that heat. That is, without dark matter. When you include dark matter in the physics, the structures we see in the universe can form. How about that? Something like 85% of the matter in the universe is stuff we can't see, can barely detect, and is made of something we know not what, but the largest structures in the cosmos owe their existence to it. We humans can get a little arrogant thinking we occupy a special place in the universe. In a sense we do, because most of universe is cold empty space and we live in a relatively warm and dense part of it. But the stuff that makes us up, the protons, electrons, and neutrons of normal matter. That's in a serious minority when it comes to all the matter there is. In a way, Obi-Wan Kenobi was right. There may not be an actual force, but there is dark matter. It surrounds us and penetrates us. It binds the galaxy together. Today you learn that the kind of matter we see, what we call normal matter, is only one kind of matter. There's also dark matter, which we cannot directly see, and which interacts with normal matter only through gravity. It affects how galaxies rotate, how galaxies move in clusters, and how large structures form in the universe. It can be detected in many ways, one of which is by seeing how its mass affects the path of light, coming from distant galaxies as it passes through dark matter in galaxy clusters. Crash Course Astronomy is produced in association with PBS Digital Studios. Head over to their YouTube channel to catch even more awesome videos. This episode was written by me, Phil Plait. The script was edited by Blake de Pastino and our consultant is Dr. Michelle Baum. It was directed by Nicholas Jenkins, edited by Nicole Sweeney. The sound designer is Michael Aranda and the graphics team is Thought Cafe. you\""
            ],
            "application/vnd.google.colaboratory.intrinsic+json": {
              "type": "string"
            }
          },
          "metadata": {},
          "execution_count": 4
        }
      ]
    },
    {
      "cell_type": "code",
      "source": [
        "device = \"cuda:0\" if torch.cuda.is_available() else \"cpu\"\n",
        "summarizer = pipeline(\"summarization\", model=\"facebook/bart-large-cnn\", device=device)"
      ],
      "metadata": {
        "id": "rPj3asneeNFx"
      },
      "execution_count": 12,
      "outputs": []
    },
    {
      "cell_type": "code",
      "source": [
        "def create_chunk(text):\n",
        "  print('updating')\n",
        "\n",
        "  text = text.split('.')\n",
        "  max_chunk = 500\n",
        "  current_chunk = 0\n",
        "  chunks = []\n",
        "\n",
        "\n",
        "  for t in text:\n",
        "    if len(chunks) == current_chunk + 1:\n",
        "      if len(chunks[current_chunk]) + len(t.split(' ')) <= max_chunk:\n",
        "        chunks[current_chunk].extend(t.split(' '))\n",
        "      else:\n",
        "        current_chunk += 1\n",
        "        chunks.append(t.split(' '))\n",
        "    else:\n",
        "      chunks.append(t.split(' '))\n",
        "\n",
        "  for chunk in range(len(chunks)):\n",
        "    chunks[chunk] =' '.join(chunks[chunk])\n",
        "\n",
        "  summ = summarizer(chunks,max_length = 70)\n",
        "  return summ[0]\n",
        "\n",
        "\n",
        "\n",
        "\n"
      ],
      "metadata": {
        "id": "OyGzF2V2dM3l"
      },
      "execution_count": 13,
      "outputs": []
    },
    {
      "cell_type": "code",
      "source": [
        "df['summary'] = df['x'].apply(lambda x: create_chunk(x))"
      ],
      "metadata": {
        "id": "VjTVY789dp4G"
      },
      "execution_count": null,
      "outputs": []
    },
    {
      "cell_type": "code",
      "source": [
        "df.head(2)"
      ],
      "metadata": {
        "id": "4vdCjK3Xak_m",
        "outputId": "e2fa66b2-5a5d-479a-8751-49717a0dc33b",
        "colab": {
          "base_uri": "https://localhost:8080/",
          "height": 112
        }
      },
      "execution_count": 25,
      "outputs": [
        {
          "output_type": "execute_result",
          "data": {
            "text/plain": [
              "                                                   x           y  \\\n",
              "0   Crash Course Philosophy is brought to you by ...  Philosophy   \n",
              "1   Remember Cecil the Lion? A lot of people were...  Philosophy   \n",
              "\n",
              "                                             summary  \n",
              "0  18th century German philosopher Emmanuel Kant ...  \n",
              "1  We react with horror when we hear about a maje...  "
            ],
            "text/html": [
              "\n",
              "  <div id=\"df-1cf8f531-af46-4556-8418-ca5548136c4a\">\n",
              "    <div class=\"colab-df-container\">\n",
              "      <div>\n",
              "<style scoped>\n",
              "    .dataframe tbody tr th:only-of-type {\n",
              "        vertical-align: middle;\n",
              "    }\n",
              "\n",
              "    .dataframe tbody tr th {\n",
              "        vertical-align: top;\n",
              "    }\n",
              "\n",
              "    .dataframe thead th {\n",
              "        text-align: right;\n",
              "    }\n",
              "</style>\n",
              "<table border=\"1\" class=\"dataframe\">\n",
              "  <thead>\n",
              "    <tr style=\"text-align: right;\">\n",
              "      <th></th>\n",
              "      <th>x</th>\n",
              "      <th>y</th>\n",
              "      <th>summary</th>\n",
              "    </tr>\n",
              "  </thead>\n",
              "  <tbody>\n",
              "    <tr>\n",
              "      <th>0</th>\n",
              "      <td>Crash Course Philosophy is brought to you by ...</td>\n",
              "      <td>Philosophy</td>\n",
              "      <td>18th century German philosopher Emmanuel Kant ...</td>\n",
              "    </tr>\n",
              "    <tr>\n",
              "      <th>1</th>\n",
              "      <td>Remember Cecil the Lion? A lot of people were...</td>\n",
              "      <td>Philosophy</td>\n",
              "      <td>We react with horror when we hear about a maje...</td>\n",
              "    </tr>\n",
              "  </tbody>\n",
              "</table>\n",
              "</div>\n",
              "      <button class=\"colab-df-convert\" onclick=\"convertToInteractive('df-1cf8f531-af46-4556-8418-ca5548136c4a')\"\n",
              "              title=\"Convert this dataframe to an interactive table.\"\n",
              "              style=\"display:none;\">\n",
              "        \n",
              "  <svg xmlns=\"http://www.w3.org/2000/svg\" height=\"24px\"viewBox=\"0 0 24 24\"\n",
              "       width=\"24px\">\n",
              "    <path d=\"M0 0h24v24H0V0z\" fill=\"none\"/>\n",
              "    <path d=\"M18.56 5.44l.94 2.06.94-2.06 2.06-.94-2.06-.94-.94-2.06-.94 2.06-2.06.94zm-11 1L8.5 8.5l.94-2.06 2.06-.94-2.06-.94L8.5 2.5l-.94 2.06-2.06.94zm10 10l.94 2.06.94-2.06 2.06-.94-2.06-.94-.94-2.06-.94 2.06-2.06.94z\"/><path d=\"M17.41 7.96l-1.37-1.37c-.4-.4-.92-.59-1.43-.59-.52 0-1.04.2-1.43.59L10.3 9.45l-7.72 7.72c-.78.78-.78 2.05 0 2.83L4 21.41c.39.39.9.59 1.41.59.51 0 1.02-.2 1.41-.59l7.78-7.78 2.81-2.81c.8-.78.8-2.07 0-2.86zM5.41 20L4 18.59l7.72-7.72 1.47 1.35L5.41 20z\"/>\n",
              "  </svg>\n",
              "      </button>\n",
              "      \n",
              "  <style>\n",
              "    .colab-df-container {\n",
              "      display:flex;\n",
              "      flex-wrap:wrap;\n",
              "      gap: 12px;\n",
              "    }\n",
              "\n",
              "    .colab-df-convert {\n",
              "      background-color: #E8F0FE;\n",
              "      border: none;\n",
              "      border-radius: 50%;\n",
              "      cursor: pointer;\n",
              "      display: none;\n",
              "      fill: #1967D2;\n",
              "      height: 32px;\n",
              "      padding: 0 0 0 0;\n",
              "      width: 32px;\n",
              "    }\n",
              "\n",
              "    .colab-df-convert:hover {\n",
              "      background-color: #E2EBFA;\n",
              "      box-shadow: 0px 1px 2px rgba(60, 64, 67, 0.3), 0px 1px 3px 1px rgba(60, 64, 67, 0.15);\n",
              "      fill: #174EA6;\n",
              "    }\n",
              "\n",
              "    [theme=dark] .colab-df-convert {\n",
              "      background-color: #3B4455;\n",
              "      fill: #D2E3FC;\n",
              "    }\n",
              "\n",
              "    [theme=dark] .colab-df-convert:hover {\n",
              "      background-color: #434B5C;\n",
              "      box-shadow: 0px 1px 3px 1px rgba(0, 0, 0, 0.15);\n",
              "      filter: drop-shadow(0px 1px 2px rgba(0, 0, 0, 0.3));\n",
              "      fill: #FFFFFF;\n",
              "    }\n",
              "  </style>\n",
              "\n",
              "      <script>\n",
              "        const buttonEl =\n",
              "          document.querySelector('#df-1cf8f531-af46-4556-8418-ca5548136c4a button.colab-df-convert');\n",
              "        buttonEl.style.display =\n",
              "          google.colab.kernel.accessAllowed ? 'block' : 'none';\n",
              "\n",
              "        async function convertToInteractive(key) {\n",
              "          const element = document.querySelector('#df-1cf8f531-af46-4556-8418-ca5548136c4a');\n",
              "          const dataTable =\n",
              "            await google.colab.kernel.invokeFunction('convertToInteractive',\n",
              "                                                     [key], {});\n",
              "          if (!dataTable) return;\n",
              "\n",
              "          const docLinkHtml = 'Like what you see? Visit the ' +\n",
              "            '<a target=\"_blank\" href=https://colab.research.google.com/notebooks/data_table.ipynb>data table notebook</a>'\n",
              "            + ' to learn more about interactive tables.';\n",
              "          element.innerHTML = '';\n",
              "          dataTable['output_type'] = 'display_data';\n",
              "          await google.colab.output.renderOutput(dataTable, element);\n",
              "          const docLink = document.createElement('div');\n",
              "          docLink.innerHTML = docLinkHtml;\n",
              "          element.appendChild(docLink);\n",
              "        }\n",
              "      </script>\n",
              "    </div>\n",
              "  </div>\n",
              "  "
            ]
          },
          "metadata": {},
          "execution_count": 25
        }
      ]
    },
    {
      "cell_type": "code",
      "source": [
        "len(\"{'summary_text'\")"
      ],
      "metadata": {
        "id": "2envqllrbSU3",
        "outputId": "e033f112-942f-4486-fbd0-4341cced85ac",
        "colab": {
          "base_uri": "https://localhost:8080/"
        }
      },
      "execution_count": 17,
      "outputs": [
        {
          "output_type": "execute_result",
          "data": {
            "text/plain": [
              "15"
            ]
          },
          "metadata": {},
          "execution_count": 17
        }
      ]
    },
    {
      "cell_type": "code",
      "source": [
        "text = df['summary'][3]\n",
        "text['']"
      ],
      "metadata": {
        "id": "6PFQ5LZq4STm",
        "outputId": "4eb5bf1b-9eba-4ef2-d756-e941712956bd",
        "colab": {
          "base_uri": "https://localhost:8080/",
          "height": 53
        }
      },
      "execution_count": 20,
      "outputs": [
        {
          "output_type": "execute_result",
          "data": {
            "text/plain": [
              "\"Batman has been in a position to kill the Joker hundreds of times. He has had the power to save anyone from ever being a victim of the Joker again. If you have the ability to stop a killer and you don't, are you morally pure because you didn't kill? Are you morally dirty?\""
            ],
            "application/vnd.google.colaboratory.intrinsic+json": {
              "type": "string"
            }
          },
          "metadata": {},
          "execution_count": 20
        }
      ]
    },
    {
      "cell_type": "code",
      "source": [
        "df['summary'] = df['summary'].apply(lambda x: x['summary_text'])"
      ],
      "metadata": {
        "id": "kHcboSnC4CfG"
      },
      "execution_count": 21,
      "outputs": []
    },
    {
      "cell_type": "code",
      "source": [
        "df"
      ],
      "metadata": {
        "id": "xBBG0Ajt4nVj",
        "outputId": "1fd7d814-76f4-4274-d761-29befc89c13f",
        "colab": {
          "base_uri": "https://localhost:8080/",
          "height": 423
        }
      },
      "execution_count": 22,
      "outputs": [
        {
          "output_type": "execute_result",
          "data": {
            "text/plain": [
              "                                                     x           y  \\\n",
              "0     Crash Course Philosophy is brought to you by ...  Philosophy   \n",
              "1     Remember Cecil the Lion? A lot of people were...  Philosophy   \n",
              "2     What is a game? Easy question, right? You kno...  Philosophy   \n",
              "3     Should Batman kill the Joker? If you were to ...  Philosophy   \n",
              "4     Crash Course Philosophy is brought to you by ...  Philosophy   \n",
              "..                                                 ...         ...   \n",
              "642   Say it's late at night. You're home alone dri...  Psychology   \n",
              "643   If someone in a position of authority told yo...  Psychology   \n",
              "644   Here's the riddle in my hobbits, is what's so...  Psychology   \n",
              "645   Ever hear a really good joke about polio? Or ...  Psychology   \n",
              "646   Nogipson did it, Tom Cruise nearly busted Opr...  Psychology   \n",
              "\n",
              "                                               summary  \n",
              "0    18th century German philosopher Emmanuel Kant ...  \n",
              "1    We react with horror when we hear about a maje...  \n",
              "2    What is a game? Easy question, right? You know...  \n",
              "3    Batman has been in a position to kill the Joke...  \n",
              "4    Crash Course Philosophy is a weekly, off-the-w...  \n",
              "..                                                 ...  \n",
              "642  Our brains and our nervous systems in the subs...  \n",
              "643  Milgram began his work during the widely publi...  \n",
              "644   consciousness allows us to contemplate life, ...  \n",
              "645  At least the fifth of all people will experien...  \n",
              "646  Nogipson, Tom Cruise and Kanye have all expres...  \n",
              "\n",
              "[647 rows x 3 columns]"
            ],
            "text/html": [
              "\n",
              "  <div id=\"df-579d3949-c547-4903-9985-919ca45b2970\">\n",
              "    <div class=\"colab-df-container\">\n",
              "      <div>\n",
              "<style scoped>\n",
              "    .dataframe tbody tr th:only-of-type {\n",
              "        vertical-align: middle;\n",
              "    }\n",
              "\n",
              "    .dataframe tbody tr th {\n",
              "        vertical-align: top;\n",
              "    }\n",
              "\n",
              "    .dataframe thead th {\n",
              "        text-align: right;\n",
              "    }\n",
              "</style>\n",
              "<table border=\"1\" class=\"dataframe\">\n",
              "  <thead>\n",
              "    <tr style=\"text-align: right;\">\n",
              "      <th></th>\n",
              "      <th>x</th>\n",
              "      <th>y</th>\n",
              "      <th>summary</th>\n",
              "    </tr>\n",
              "  </thead>\n",
              "  <tbody>\n",
              "    <tr>\n",
              "      <th>0</th>\n",
              "      <td>Crash Course Philosophy is brought to you by ...</td>\n",
              "      <td>Philosophy</td>\n",
              "      <td>18th century German philosopher Emmanuel Kant ...</td>\n",
              "    </tr>\n",
              "    <tr>\n",
              "      <th>1</th>\n",
              "      <td>Remember Cecil the Lion? A lot of people were...</td>\n",
              "      <td>Philosophy</td>\n",
              "      <td>We react with horror when we hear about a maje...</td>\n",
              "    </tr>\n",
              "    <tr>\n",
              "      <th>2</th>\n",
              "      <td>What is a game? Easy question, right? You kno...</td>\n",
              "      <td>Philosophy</td>\n",
              "      <td>What is a game? Easy question, right? You know...</td>\n",
              "    </tr>\n",
              "    <tr>\n",
              "      <th>3</th>\n",
              "      <td>Should Batman kill the Joker? If you were to ...</td>\n",
              "      <td>Philosophy</td>\n",
              "      <td>Batman has been in a position to kill the Joke...</td>\n",
              "    </tr>\n",
              "    <tr>\n",
              "      <th>4</th>\n",
              "      <td>Crash Course Philosophy is brought to you by ...</td>\n",
              "      <td>Philosophy</td>\n",
              "      <td>Crash Course Philosophy is a weekly, off-the-w...</td>\n",
              "    </tr>\n",
              "    <tr>\n",
              "      <th>...</th>\n",
              "      <td>...</td>\n",
              "      <td>...</td>\n",
              "      <td>...</td>\n",
              "    </tr>\n",
              "    <tr>\n",
              "      <th>642</th>\n",
              "      <td>Say it's late at night. You're home alone dri...</td>\n",
              "      <td>Psychology</td>\n",
              "      <td>Our brains and our nervous systems in the subs...</td>\n",
              "    </tr>\n",
              "    <tr>\n",
              "      <th>643</th>\n",
              "      <td>If someone in a position of authority told yo...</td>\n",
              "      <td>Psychology</td>\n",
              "      <td>Milgram began his work during the widely publi...</td>\n",
              "    </tr>\n",
              "    <tr>\n",
              "      <th>644</th>\n",
              "      <td>Here's the riddle in my hobbits, is what's so...</td>\n",
              "      <td>Psychology</td>\n",
              "      <td>consciousness allows us to contemplate life, ...</td>\n",
              "    </tr>\n",
              "    <tr>\n",
              "      <th>645</th>\n",
              "      <td>Ever hear a really good joke about polio? Or ...</td>\n",
              "      <td>Psychology</td>\n",
              "      <td>At least the fifth of all people will experien...</td>\n",
              "    </tr>\n",
              "    <tr>\n",
              "      <th>646</th>\n",
              "      <td>Nogipson did it, Tom Cruise nearly busted Opr...</td>\n",
              "      <td>Psychology</td>\n",
              "      <td>Nogipson, Tom Cruise and Kanye have all expres...</td>\n",
              "    </tr>\n",
              "  </tbody>\n",
              "</table>\n",
              "<p>647 rows × 3 columns</p>\n",
              "</div>\n",
              "      <button class=\"colab-df-convert\" onclick=\"convertToInteractive('df-579d3949-c547-4903-9985-919ca45b2970')\"\n",
              "              title=\"Convert this dataframe to an interactive table.\"\n",
              "              style=\"display:none;\">\n",
              "        \n",
              "  <svg xmlns=\"http://www.w3.org/2000/svg\" height=\"24px\"viewBox=\"0 0 24 24\"\n",
              "       width=\"24px\">\n",
              "    <path d=\"M0 0h24v24H0V0z\" fill=\"none\"/>\n",
              "    <path d=\"M18.56 5.44l.94 2.06.94-2.06 2.06-.94-2.06-.94-.94-2.06-.94 2.06-2.06.94zm-11 1L8.5 8.5l.94-2.06 2.06-.94-2.06-.94L8.5 2.5l-.94 2.06-2.06.94zm10 10l.94 2.06.94-2.06 2.06-.94-2.06-.94-.94-2.06-.94 2.06-2.06.94z\"/><path d=\"M17.41 7.96l-1.37-1.37c-.4-.4-.92-.59-1.43-.59-.52 0-1.04.2-1.43.59L10.3 9.45l-7.72 7.72c-.78.78-.78 2.05 0 2.83L4 21.41c.39.39.9.59 1.41.59.51 0 1.02-.2 1.41-.59l7.78-7.78 2.81-2.81c.8-.78.8-2.07 0-2.86zM5.41 20L4 18.59l7.72-7.72 1.47 1.35L5.41 20z\"/>\n",
              "  </svg>\n",
              "      </button>\n",
              "      \n",
              "  <style>\n",
              "    .colab-df-container {\n",
              "      display:flex;\n",
              "      flex-wrap:wrap;\n",
              "      gap: 12px;\n",
              "    }\n",
              "\n",
              "    .colab-df-convert {\n",
              "      background-color: #E8F0FE;\n",
              "      border: none;\n",
              "      border-radius: 50%;\n",
              "      cursor: pointer;\n",
              "      display: none;\n",
              "      fill: #1967D2;\n",
              "      height: 32px;\n",
              "      padding: 0 0 0 0;\n",
              "      width: 32px;\n",
              "    }\n",
              "\n",
              "    .colab-df-convert:hover {\n",
              "      background-color: #E2EBFA;\n",
              "      box-shadow: 0px 1px 2px rgba(60, 64, 67, 0.3), 0px 1px 3px 1px rgba(60, 64, 67, 0.15);\n",
              "      fill: #174EA6;\n",
              "    }\n",
              "\n",
              "    [theme=dark] .colab-df-convert {\n",
              "      background-color: #3B4455;\n",
              "      fill: #D2E3FC;\n",
              "    }\n",
              "\n",
              "    [theme=dark] .colab-df-convert:hover {\n",
              "      background-color: #434B5C;\n",
              "      box-shadow: 0px 1px 3px 1px rgba(0, 0, 0, 0.15);\n",
              "      filter: drop-shadow(0px 1px 2px rgba(0, 0, 0, 0.3));\n",
              "      fill: #FFFFFF;\n",
              "    }\n",
              "  </style>\n",
              "\n",
              "      <script>\n",
              "        const buttonEl =\n",
              "          document.querySelector('#df-579d3949-c547-4903-9985-919ca45b2970 button.colab-df-convert');\n",
              "        buttonEl.style.display =\n",
              "          google.colab.kernel.accessAllowed ? 'block' : 'none';\n",
              "\n",
              "        async function convertToInteractive(key) {\n",
              "          const element = document.querySelector('#df-579d3949-c547-4903-9985-919ca45b2970');\n",
              "          const dataTable =\n",
              "            await google.colab.kernel.invokeFunction('convertToInteractive',\n",
              "                                                     [key], {});\n",
              "          if (!dataTable) return;\n",
              "\n",
              "          const docLinkHtml = 'Like what you see? Visit the ' +\n",
              "            '<a target=\"_blank\" href=https://colab.research.google.com/notebooks/data_table.ipynb>data table notebook</a>'\n",
              "            + ' to learn more about interactive tables.';\n",
              "          element.innerHTML = '';\n",
              "          dataTable['output_type'] = 'display_data';\n",
              "          await google.colab.output.renderOutput(dataTable, element);\n",
              "          const docLink = document.createElement('div');\n",
              "          docLink.innerHTML = docLinkHtml;\n",
              "          element.appendChild(docLink);\n",
              "        }\n",
              "      </script>\n",
              "    </div>\n",
              "  </div>\n",
              "  "
            ]
          },
          "metadata": {},
          "execution_count": 22
        }
      ]
    },
    {
      "cell_type": "code",
      "source": [
        "df.to_csv('datawithSummary.csv',index = False)"
      ],
      "metadata": {
        "id": "fkyWbJ2b4oHs"
      },
      "execution_count": 24,
      "outputs": []
    },
    {
      "cell_type": "code",
      "source": [],
      "metadata": {
        "id": "iGEl8DXx43sL"
      },
      "execution_count": null,
      "outputs": []
    }
  ]
}
