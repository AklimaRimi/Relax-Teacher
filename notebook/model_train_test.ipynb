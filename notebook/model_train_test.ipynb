{
  "nbformat": 4,
  "nbformat_minor": 0,
  "metadata": {
    "colab": {
      "provenance": [],
      "authorship_tag": "ABX9TyNnUDNh2UYzTlMYMmuSQMxk",
      "include_colab_link": true
    },
    "kernelspec": {
      "name": "python3",
      "display_name": "Python 3"
    },
    "language_info": {
      "name": "python"
    },
    "accelerator": "GPU",
    "gpuClass": "standard"
  },
  "cells": [
    {
      "cell_type": "markdown",
      "metadata": {
        "id": "view-in-github",
        "colab_type": "text"
      },
      "source": [
        "<a href=\"https://colab.research.google.com/github/AklimaRimi/online-class/blob/main/notebook/model_train_test.ipynb\" target=\"_parent\"><img src=\"https://colab.research.google.com/assets/colab-badge.svg\" alt=\"Open In Colab\"/></a>"
      ]
    },
    {
      "cell_type": "code",
      "execution_count": 31,
      "metadata": {
        "colab": {
          "base_uri": "https://localhost:8080/"
        },
        "id": "b8A3rsk-nv2A",
        "outputId": "6252f1d1-357a-4fcf-d0c2-4a1cd766cb2a"
      },
      "outputs": [
        {
          "output_type": "stream",
          "name": "stdout",
          "text": [
            "fatal: destination path 'online-class' already exists and is not an empty directory.\n"
          ]
        }
      ],
      "source": [
        "! git clone https://github.com/AklimaRimi/online-class.git"
      ]
    },
    {
      "cell_type": "code",
      "source": [
        "!pip install -q fastbook transformers datasets evaluate ohmeow-blurr"
      ],
      "metadata": {
        "id": "8udfKJmfpAr5"
      },
      "execution_count": 32,
      "outputs": []
    },
    {
      "cell_type": "code",
      "source": [
        "import torch"
      ],
      "metadata": {
        "id": "R8Tp6ULg7Rdo"
      },
      "execution_count": 33,
      "outputs": []
    },
    {
      "cell_type": "code",
      "source": [
        "from fastai import *\n",
        "from fastbook import *\n",
        "import pandas as pd\n",
        "from fastai.text.all import *\n",
        "from datasets import Dataset\n",
        "from transformers import AutoTokenizer\n",
        "from transformers import AutoModelForSequenceClassification,AutoConfig\n",
        "from blurr.text.data.all import *\n",
        "from blurr.text.modeling.all import *\n"
      ],
      "metadata": {
        "id": "_PrWYxFJn571"
      },
      "execution_count": 39,
      "outputs": []
    },
    {
      "cell_type": "code",
      "source": [
        "data = pd.read_csv('/content/online-class/data/datawithSummary (1).csv')\n",
        "data.tail()"
      ],
      "metadata": {
        "colab": {
          "base_uri": "https://localhost:8080/",
          "height": 770
        },
        "id": "F5ZQJdIIoLLp",
        "outputId": "931dc5f4-8b2e-4dc6-982e-9bfcf1685227"
      },
      "execution_count": 40,
      "outputs": [
        {
          "output_type": "execute_result",
          "data": {
            "text/plain": [
              "                                                                                                                                                                                                                                                                                                                                                                                                                                                                                                                                                                                                                           x  \\\n",
              "642   Say it's late at night. You're home alone drifting off to sleep. Just entering that dream about fritos and then something is a banging at the door. Suddenly, your wide awake and it feels like your heart's gonna explode. You jump up, ready to run out the back door, possibly grab a Phillips head screwdriver and stab it into the darkness until it sticks into something. Now, whether it's a weeping angel or your neighbor looking to borrow a can of beans, it doesn't really matter because when you heard that sudden noise, your startled brain released an icy typhoon of chemicals. And everything t...   \n",
              "643   If someone in a position of authority told you to like stop walking on the grass, you would stop walking on the grass, right? And if they told you to help someone's grandma cross the street or pick up your dog's poop or put your shoes on before you go into a store, you probably comply. But what if they ordered you to physically hurt another person? You're probably thinking, no way, I could never do something like that. But there's a good chance you're wrong. began his work during the widely publicized trial of World War II Nazi War criminal Adolf Eichmann. Eichmann's defense, along with o...   \n",
              "644   Here's the riddle in my hobbits, is what's something that we all experience all the time that we can't really measure and barely have words to define. You can't hold it in your hand or take a bite out of it. It isn't something you learn or practice. It just is consciousness. Every science has certain concepts that are so fundamental to get abstract that we have a hard time finding the appropriate words to describe them. Ask a physicist and they'll tell you energy and space defies simple definitions. Biologists know if something is alive but have a harder time explaining what life actually...   \n",
              "645   Ever hear a really good joke about polio? Or made a casual reference to someone having hepatitis? Or maybe tease your buddy by saying he has muscular dystrophy. Of course you have never done that, because you are not a terrible person. You'd never make fun of someone for having a physical illness. But folks make all kinds of offhand remarks about people having mental illnesses and never give it a second thought. How often have you heard a person say that someone's psycho or skitso or bipolar OCD? Like a pretty much guarantee that the people who use those terms had no idea what they actual...   \n",
              "646   Nogipson did it, Tom Cruise nearly busted Oprah's couch doing it, and Kanye pretty much has owned it for years now. Talkin' about expressing too much emotion, usually in public, and in weird, and often insensitive ways. Such regrettable outbursts are not unique to celebrities, of course, and they can be enough to make us think of our emotions as irrational, but they're not. Well, not usually. and behave. Of course, when the blow up and someone screams at a flight at Dendent or Punch as a paparazzo or jumps on stage and grabs the microwave from a teenager in the middle of her acceptance sp...   \n",
              "\n",
              "              y  \\\n",
              "642  Psychology   \n",
              "643  Psychology   \n",
              "644  Psychology   \n",
              "645  Psychology   \n",
              "646  Psychology   \n",
              "\n",
              "                                                                                                                                                                                                                                                                                                                                                                                                                                          summary  \n",
              "642                                                         In reality, the moods, ideas, impulses that flash through our minds are spurred by our biological condition . Our brains and our nervous systems in the substance as they produce in our always bathed in, our amazingly complex nuanced systems . One way to understand how your mind works is to look at how the chemistry of your body influences how you think, sense, and feel .  \n",
              "643               Milgram began his work during the widely publicized trial of World War II Nazi War criminal Adolf Eichmann . His defense, along with other Nazis, for sending millions of people to their deaths, was that he was simply following the orders of his superiors . Milgram recruited 40 male volunteers using newspaper ads . He built a phony shock generator with a scale of 30 switches that could supposedly deliver shocks .  \n",
              "644   Consciousness allows us to contemplate life, think about infinity and ride a unicycle across a tightrope while juggling melons . Our consciousness helps us plan our futures, consider consequences, and reflect on the past . For centuries, scientists learn what they could about the brain solely through clinical observation . With today's technology, we're able to see some of the structures and activity inside a living brain .  \n",
              "645                                        As we go deeper into psychological disorders, we get a clearer understanding of their symptoms, types, causes, and perspectives that help explain them . At least the fifth of all people will experience a diagnosable anxiety disorder of some kind at some point in their lives . Obsessive compulsive disorder, or OCD, is characterized by unwanted, repetitive thoughts which become obsession .  \n",
              "646                                                                    Emotions involve physiological arousal, expressive behaviors, and conscious experience . Nogipson did it, Tom Cruise nearly busted Oprah's couch doing it, and Kanye pretty much has owned it for years now . Kanye West jumped on stage and grabbed a microwave from a teenager in the middle of her acceptance speech to say that someone else deserves the honor more .  "
            ],
            "text/html": [
              "\n",
              "  <div id=\"df-e86b397f-72b7-4a76-9482-edd637094306\">\n",
              "    <div class=\"colab-df-container\">\n",
              "      <div>\n",
              "<style scoped>\n",
              "    .dataframe tbody tr th:only-of-type {\n",
              "        vertical-align: middle;\n",
              "    }\n",
              "\n",
              "    .dataframe tbody tr th {\n",
              "        vertical-align: top;\n",
              "    }\n",
              "\n",
              "    .dataframe thead th {\n",
              "        text-align: right;\n",
              "    }\n",
              "</style>\n",
              "<table border=\"1\" class=\"dataframe\">\n",
              "  <thead>\n",
              "    <tr style=\"text-align: right;\">\n",
              "      <th></th>\n",
              "      <th>x</th>\n",
              "      <th>y</th>\n",
              "      <th>summary</th>\n",
              "    </tr>\n",
              "  </thead>\n",
              "  <tbody>\n",
              "    <tr>\n",
              "      <th>642</th>\n",
              "      <td>Say it's late at night. You're home alone drifting off to sleep. Just entering that dream about fritos and then something is a banging at the door. Suddenly, your wide awake and it feels like your heart's gonna explode. You jump up, ready to run out the back door, possibly grab a Phillips head screwdriver and stab it into the darkness until it sticks into something. Now, whether it's a weeping angel or your neighbor looking to borrow a can of beans, it doesn't really matter because when you heard that sudden noise, your startled brain released an icy typhoon of chemicals. And everything t...</td>\n",
              "      <td>Psychology</td>\n",
              "      <td>In reality, the moods, ideas, impulses that flash through our minds are spurred by our biological condition . Our brains and our nervous systems in the substance as they produce in our always bathed in, our amazingly complex nuanced systems . One way to understand how your mind works is to look at how the chemistry of your body influences how you think, sense, and feel .</td>\n",
              "    </tr>\n",
              "    <tr>\n",
              "      <th>643</th>\n",
              "      <td>If someone in a position of authority told you to like stop walking on the grass, you would stop walking on the grass, right? And if they told you to help someone's grandma cross the street or pick up your dog's poop or put your shoes on before you go into a store, you probably comply. But what if they ordered you to physically hurt another person? You're probably thinking, no way, I could never do something like that. But there's a good chance you're wrong. began his work during the widely publicized trial of World War II Nazi War criminal Adolf Eichmann. Eichmann's defense, along with o...</td>\n",
              "      <td>Psychology</td>\n",
              "      <td>Milgram began his work during the widely publicized trial of World War II Nazi War criminal Adolf Eichmann . His defense, along with other Nazis, for sending millions of people to their deaths, was that he was simply following the orders of his superiors . Milgram recruited 40 male volunteers using newspaper ads . He built a phony shock generator with a scale of 30 switches that could supposedly deliver shocks .</td>\n",
              "    </tr>\n",
              "    <tr>\n",
              "      <th>644</th>\n",
              "      <td>Here's the riddle in my hobbits, is what's something that we all experience all the time that we can't really measure and barely have words to define. You can't hold it in your hand or take a bite out of it. It isn't something you learn or practice. It just is consciousness. Every science has certain concepts that are so fundamental to get abstract that we have a hard time finding the appropriate words to describe them. Ask a physicist and they'll tell you energy and space defies simple definitions. Biologists know if something is alive but have a harder time explaining what life actually...</td>\n",
              "      <td>Psychology</td>\n",
              "      <td>Consciousness allows us to contemplate life, think about infinity and ride a unicycle across a tightrope while juggling melons . Our consciousness helps us plan our futures, consider consequences, and reflect on the past . For centuries, scientists learn what they could about the brain solely through clinical observation . With today's technology, we're able to see some of the structures and activity inside a living brain .</td>\n",
              "    </tr>\n",
              "    <tr>\n",
              "      <th>645</th>\n",
              "      <td>Ever hear a really good joke about polio? Or made a casual reference to someone having hepatitis? Or maybe tease your buddy by saying he has muscular dystrophy. Of course you have never done that, because you are not a terrible person. You'd never make fun of someone for having a physical illness. But folks make all kinds of offhand remarks about people having mental illnesses and never give it a second thought. How often have you heard a person say that someone's psycho or skitso or bipolar OCD? Like a pretty much guarantee that the people who use those terms had no idea what they actual...</td>\n",
              "      <td>Psychology</td>\n",
              "      <td>As we go deeper into psychological disorders, we get a clearer understanding of their symptoms, types, causes, and perspectives that help explain them . At least the fifth of all people will experience a diagnosable anxiety disorder of some kind at some point in their lives . Obsessive compulsive disorder, or OCD, is characterized by unwanted, repetitive thoughts which become obsession .</td>\n",
              "    </tr>\n",
              "    <tr>\n",
              "      <th>646</th>\n",
              "      <td>Nogipson did it, Tom Cruise nearly busted Oprah's couch doing it, and Kanye pretty much has owned it for years now. Talkin' about expressing too much emotion, usually in public, and in weird, and often insensitive ways. Such regrettable outbursts are not unique to celebrities, of course, and they can be enough to make us think of our emotions as irrational, but they're not. Well, not usually. and behave. Of course, when the blow up and someone screams at a flight at Dendent or Punch as a paparazzo or jumps on stage and grabs the microwave from a teenager in the middle of her acceptance sp...</td>\n",
              "      <td>Psychology</td>\n",
              "      <td>Emotions involve physiological arousal, expressive behaviors, and conscious experience . Nogipson did it, Tom Cruise nearly busted Oprah's couch doing it, and Kanye pretty much has owned it for years now . Kanye West jumped on stage and grabbed a microwave from a teenager in the middle of her acceptance speech to say that someone else deserves the honor more .</td>\n",
              "    </tr>\n",
              "  </tbody>\n",
              "</table>\n",
              "</div>\n",
              "      <button class=\"colab-df-convert\" onclick=\"convertToInteractive('df-e86b397f-72b7-4a76-9482-edd637094306')\"\n",
              "              title=\"Convert this dataframe to an interactive table.\"\n",
              "              style=\"display:none;\">\n",
              "        \n",
              "  <svg xmlns=\"http://www.w3.org/2000/svg\" height=\"24px\"viewBox=\"0 0 24 24\"\n",
              "       width=\"24px\">\n",
              "    <path d=\"M0 0h24v24H0V0z\" fill=\"none\"/>\n",
              "    <path d=\"M18.56 5.44l.94 2.06.94-2.06 2.06-.94-2.06-.94-.94-2.06-.94 2.06-2.06.94zm-11 1L8.5 8.5l.94-2.06 2.06-.94-2.06-.94L8.5 2.5l-.94 2.06-2.06.94zm10 10l.94 2.06.94-2.06 2.06-.94-2.06-.94-.94-2.06-.94 2.06-2.06.94z\"/><path d=\"M17.41 7.96l-1.37-1.37c-.4-.4-.92-.59-1.43-.59-.52 0-1.04.2-1.43.59L10.3 9.45l-7.72 7.72c-.78.78-.78 2.05 0 2.83L4 21.41c.39.39.9.59 1.41.59.51 0 1.02-.2 1.41-.59l7.78-7.78 2.81-2.81c.8-.78.8-2.07 0-2.86zM5.41 20L4 18.59l7.72-7.72 1.47 1.35L5.41 20z\"/>\n",
              "  </svg>\n",
              "      </button>\n",
              "      \n",
              "  <style>\n",
              "    .colab-df-container {\n",
              "      display:flex;\n",
              "      flex-wrap:wrap;\n",
              "      gap: 12px;\n",
              "    }\n",
              "\n",
              "    .colab-df-convert {\n",
              "      background-color: #E8F0FE;\n",
              "      border: none;\n",
              "      border-radius: 50%;\n",
              "      cursor: pointer;\n",
              "      display: none;\n",
              "      fill: #1967D2;\n",
              "      height: 32px;\n",
              "      padding: 0 0 0 0;\n",
              "      width: 32px;\n",
              "    }\n",
              "\n",
              "    .colab-df-convert:hover {\n",
              "      background-color: #E2EBFA;\n",
              "      box-shadow: 0px 1px 2px rgba(60, 64, 67, 0.3), 0px 1px 3px 1px rgba(60, 64, 67, 0.15);\n",
              "      fill: #174EA6;\n",
              "    }\n",
              "\n",
              "    [theme=dark] .colab-df-convert {\n",
              "      background-color: #3B4455;\n",
              "      fill: #D2E3FC;\n",
              "    }\n",
              "\n",
              "    [theme=dark] .colab-df-convert:hover {\n",
              "      background-color: #434B5C;\n",
              "      box-shadow: 0px 1px 3px 1px rgba(0, 0, 0, 0.15);\n",
              "      filter: drop-shadow(0px 1px 2px rgba(0, 0, 0, 0.3));\n",
              "      fill: #FFFFFF;\n",
              "    }\n",
              "  </style>\n",
              "\n",
              "      <script>\n",
              "        const buttonEl =\n",
              "          document.querySelector('#df-e86b397f-72b7-4a76-9482-edd637094306 button.colab-df-convert');\n",
              "        buttonEl.style.display =\n",
              "          google.colab.kernel.accessAllowed ? 'block' : 'none';\n",
              "\n",
              "        async function convertToInteractive(key) {\n",
              "          const element = document.querySelector('#df-e86b397f-72b7-4a76-9482-edd637094306');\n",
              "          const dataTable =\n",
              "            await google.colab.kernel.invokeFunction('convertToInteractive',\n",
              "                                                     [key], {});\n",
              "          if (!dataTable) return;\n",
              "\n",
              "          const docLinkHtml = 'Like what you see? Visit the ' +\n",
              "            '<a target=\"_blank\" href=https://colab.research.google.com/notebooks/data_table.ipynb>data table notebook</a>'\n",
              "            + ' to learn more about interactive tables.';\n",
              "          element.innerHTML = '';\n",
              "          dataTable['output_type'] = 'display_data';\n",
              "          await google.colab.output.renderOutput(dataTable, element);\n",
              "          const docLink = document.createElement('div');\n",
              "          docLink.innerHTML = docLinkHtml;\n",
              "          element.appendChild(docLink);\n",
              "        }\n",
              "      </script>\n",
              "    </div>\n",
              "  </div>\n",
              "  "
            ]
          },
          "metadata": {},
          "execution_count": 40
        }
      ]
    },
    {
      "cell_type": "code",
      "source": [
        "df = Dataset.from_pandas(data)\n",
        "df"
      ],
      "metadata": {
        "colab": {
          "base_uri": "https://localhost:8080/"
        },
        "id": "0M_HXxkBxZ1w",
        "outputId": "08891413-b660-4282-8738-0326b05c1c46"
      },
      "execution_count": 41,
      "outputs": [
        {
          "output_type": "execute_result",
          "data": {
            "text/plain": [
              "Dataset({\n",
              "    features: ['x', 'y', 'summary'],\n",
              "    num_rows: 647\n",
              "})"
            ]
          },
          "metadata": {},
          "execution_count": 41
        }
      ]
    },
    {
      "cell_type": "code",
      "source": [
        "len(data['y'].unique())"
      ],
      "metadata": {
        "colab": {
          "base_uri": "https://localhost:8080/"
        },
        "id": "9-hUc-7w0OIy",
        "outputId": "0150bfc7-3108-488f-b6e0-499275dcea64"
      },
      "execution_count": 42,
      "outputs": [
        {
          "output_type": "execute_result",
          "data": {
            "text/plain": [
              "12"
            ]
          },
          "metadata": {},
          "execution_count": 42
        }
      ]
    },
    {
      "cell_type": "code",
      "source": [
        "model_cls = AutoModelForSequenceClassification\n",
        "model_name = \"distilroberta-base\"\n",
        "\n",
        "config = AutoConfig.from_pretrained(model_name,num_labels = 12)\n",
        "config.num_labels = 12\n",
        "\n",
        "hf_arc,hf_config,hf_tokenizer,hf_model = get_hf_objects(model_name,model_cls=model_cls,config=config)"
      ],
      "metadata": {
        "id": "P2e1iy-S0BPi"
      },
      "execution_count": 43,
      "outputs": []
    },
    {
      "cell_type": "code",
      "source": [
        "blocks = (TextBlock(hf_arc,hf_config,hf_tokenizer,hf_model),CategoryBlock)"
      ],
      "metadata": {
        "id": "OeKfp8OK3VKf"
      },
      "execution_count": 44,
      "outputs": []
    },
    {
      "cell_type": "code",
      "source": [
        "dblock = DataBlock(blocks = blocks,get_x=ColReader('summary'),get_y=ColReader('y'),splitter=RandomSplitter(valid_pct = .1,seed =42))"
      ],
      "metadata": {
        "id": "46vLi6915-SC"
      },
      "execution_count": 45,
      "outputs": []
    },
    {
      "cell_type": "code",
      "source": [
        "dls = dblock.dataloaders(df,bs=16)"
      ],
      "metadata": {
        "id": "kMgqRMte6JM_"
      },
      "execution_count": 46,
      "outputs": []
    },
    {
      "cell_type": "code",
      "source": [
        "model = BaseModelWrapper(hf_model)"
      ],
      "metadata": {
        "id": "XG7tkpUi6Mdf"
      },
      "execution_count": 47,
      "outputs": []
    },
    {
      "cell_type": "code",
      "source": [
        "learner = Learner(dls,\n",
        "    model,\n",
        "    metrics = [accuracy],\n",
        "    cbs = [BaseModelCallback],\n",
        "    splitter = blurr_splitter\n",
        ").to_fp16()\n"
      ],
      "metadata": {
        "id": "p6WEogznBTqA"
      },
      "execution_count": 48,
      "outputs": []
    },
    {
      "cell_type": "code",
      "source": [
        "learner.freeze()\n",
        "learner.lr_find()"
      ],
      "metadata": {
        "colab": {
          "base_uri": "https://localhost:8080/",
          "height": 476
        },
        "id": "KJtJNHRSCP0_",
        "outputId": "a58b3b69-026b-4a5d-f4d6-9cee1f0ad8c1"
      },
      "execution_count": 49,
      "outputs": [
        {
          "output_type": "display_data",
          "data": {
            "text/plain": [
              "<IPython.core.display.HTML object>"
            ],
            "text/html": [
              "\n",
              "<style>\n",
              "    /* Turns off some styling */\n",
              "    progress {\n",
              "        /* gets rid of default border in Firefox and Opera. */\n",
              "        border: none;\n",
              "        /* Needs to be in here for Safari polyfill so background images work as expected. */\n",
              "        background-size: auto;\n",
              "    }\n",
              "    progress:not([value]), progress:not([value])::-webkit-progress-bar {\n",
              "        background: repeating-linear-gradient(45deg, #7e7e7e, #7e7e7e 10px, #5c5c5c 10px, #5c5c5c 20px);\n",
              "    }\n",
              "    .progress-bar-interrupted, .progress-bar-interrupted::-webkit-progress-bar {\n",
              "        background: #F44336;\n",
              "    }\n",
              "</style>\n"
            ]
          },
          "metadata": {}
        },
        {
          "output_type": "display_data",
          "data": {
            "text/plain": [
              "<IPython.core.display.HTML object>"
            ],
            "text/html": []
          },
          "metadata": {}
        },
        {
          "output_type": "execute_result",
          "data": {
            "text/plain": [
              "SuggestedLRs(valley=0.0004786300996784121)"
            ]
          },
          "metadata": {},
          "execution_count": 49
        },
        {
          "output_type": "display_data",
          "data": {
            "text/plain": [
              "<Figure size 640x480 with 1 Axes>"
            ],
            "image/png": "[encoded data removed]"
          },
          "metadata": {}
        }
      ]
    },
    {
      "cell_type": "code",
      "source": [
        "learner.fit_one_cycle(5,0.0004786300996784121)"
      ],
      "metadata": {
        "colab": {
          "base_uri": "https://localhost:8080/",
          "height": 206
        },
        "id": "EDd6zclOCeTA",
        "outputId": "dcffa212-1810-4cde-9718-d38b65c9f65c"
      },
      "execution_count": 50,
      "outputs": [
        {
          "output_type": "display_data",
          "data": {
            "text/plain": [
              "<IPython.core.display.HTML object>"
            ],
            "text/html": [
              "\n",
              "<style>\n",
              "    /* Turns off some styling */\n",
              "    progress {\n",
              "        /* gets rid of default border in Firefox and Opera. */\n",
              "        border: none;\n",
              "        /* Needs to be in here for Safari polyfill so background images work as expected. */\n",
              "        background-size: auto;\n",
              "    }\n",
              "    progress:not([value]), progress:not([value])::-webkit-progress-bar {\n",
              "        background: repeating-linear-gradient(45deg, #7e7e7e, #7e7e7e 10px, #5c5c5c 10px, #5c5c5c 20px);\n",
              "    }\n",
              "    .progress-bar-interrupted, .progress-bar-interrupted::-webkit-progress-bar {\n",
              "        background: #F44336;\n",
              "    }\n",
              "</style>\n"
            ]
          },
          "metadata": {}
        },
        {
          "output_type": "display_data",
          "data": {
            "text/plain": [
              "<IPython.core.display.HTML object>"
            ],
            "text/html": [
              "<table border=\"1\" class=\"dataframe\">\n",
              "  <thead>\n",
              "    <tr style=\"text-align: left;\">\n",
              "      <th>epoch</th>\n",
              "      <th>train_loss</th>\n",
              "      <th>valid_loss</th>\n",
              "      <th>accuracy</th>\n",
              "      <th>time</th>\n",
              "    </tr>\n",
              "  </thead>\n",
              "  <tbody>\n",
              "    <tr>\n",
              "      <td>0</td>\n",
              "      <td>2.427336</td>\n",
              "      <td>2.261836</td>\n",
              "      <td>0.218750</td>\n",
              "      <td>00:03</td>\n",
              "    </tr>\n",
              "    <tr>\n",
              "      <td>1</td>\n",
              "      <td>1.665763</td>\n",
              "      <td>0.407126</td>\n",
              "      <td>0.890625</td>\n",
              "      <td>00:04</td>\n",
              "    </tr>\n",
              "    <tr>\n",
              "      <td>2</td>\n",
              "      <td>0.929948</td>\n",
              "      <td>0.187610</td>\n",
              "      <td>0.984375</td>\n",
              "      <td>00:02</td>\n",
              "    </tr>\n",
              "    <tr>\n",
              "      <td>3</td>\n",
              "      <td>0.569715</td>\n",
              "      <td>0.222889</td>\n",
              "      <td>0.921875</td>\n",
              "      <td>00:02</td>\n",
              "    </tr>\n",
              "    <tr>\n",
              "      <td>4</td>\n",
              "      <td>0.384655</td>\n",
              "      <td>0.200751</td>\n",
              "      <td>0.953125</td>\n",
              "      <td>00:02</td>\n",
              "    </tr>\n",
              "  </tbody>\n",
              "</table>"
            ]
          },
          "metadata": {}
        }
      ]
    },
    {
      "cell_type": "code",
      "source": [
        "learner.unfreeze()\n",
        "learner.lr_find()"
      ],
      "metadata": {
        "colab": {
          "base_uri": "https://localhost:8080/",
          "height": 476
        },
        "id": "IXKaCd7XCy9x",
        "outputId": "c496eceb-d811-458e-be9e-d32e983a3ae4"
      },
      "execution_count": 51,
      "outputs": [
        {
          "output_type": "display_data",
          "data": {
            "text/plain": [
              "<IPython.core.display.HTML object>"
            ],
            "text/html": [
              "\n",
              "<style>\n",
              "    /* Turns off some styling */\n",
              "    progress {\n",
              "        /* gets rid of default border in Firefox and Opera. */\n",
              "        border: none;\n",
              "        /* Needs to be in here for Safari polyfill so background images work as expected. */\n",
              "        background-size: auto;\n",
              "    }\n",
              "    progress:not([value]), progress:not([value])::-webkit-progress-bar {\n",
              "        background: repeating-linear-gradient(45deg, #7e7e7e, #7e7e7e 10px, #5c5c5c 10px, #5c5c5c 20px);\n",
              "    }\n",
              "    .progress-bar-interrupted, .progress-bar-interrupted::-webkit-progress-bar {\n",
              "        background: #F44336;\n",
              "    }\n",
              "</style>\n"
            ]
          },
          "metadata": {}
        },
        {
          "output_type": "display_data",
          "data": {
            "text/plain": [
              "<IPython.core.display.HTML object>"
            ],
            "text/html": []
          },
          "metadata": {}
        },
        {
          "output_type": "execute_result",
          "data": {
            "text/plain": [
              "SuggestedLRs(valley=3.0199516913853586e-05)"
            ]
          },
          "metadata": {},
          "execution_count": 51
        },
        {
          "output_type": "display_data",
          "data": {
            "text/plain": [
              "<Figure size 640x480 with 1 Axes>"
            ],
            "image/png": "[encoded data removed]"
          },
          "metadata": {}
        }
      ]
    },
    {
      "cell_type": "code",
      "source": [
        "learner.fit_one_cycle(10,3.0199516913853586e-05)"
      ],
      "metadata": {
        "colab": {
          "base_uri": "https://localhost:8080/",
          "height": 363
        },
        "id": "Kr-oXJJ8DOUr",
        "outputId": "c2245683-caea-4ab4-9ce9-507824ee06bd"
      },
      "execution_count": 52,
      "outputs": [
        {
          "output_type": "display_data",
          "data": {
            "text/plain": [
              "<IPython.core.display.HTML object>"
            ],
            "text/html": [
              "\n",
              "<style>\n",
              "    /* Turns off some styling */\n",
              "    progress {\n",
              "        /* gets rid of default border in Firefox and Opera. */\n",
              "        border: none;\n",
              "        /* Needs to be in here for Safari polyfill so background images work as expected. */\n",
              "        background-size: auto;\n",
              "    }\n",
              "    progress:not([value]), progress:not([value])::-webkit-progress-bar {\n",
              "        background: repeating-linear-gradient(45deg, #7e7e7e, #7e7e7e 10px, #5c5c5c 10px, #5c5c5c 20px);\n",
              "    }\n",
              "    .progress-bar-interrupted, .progress-bar-interrupted::-webkit-progress-bar {\n",
              "        background: #F44336;\n",
              "    }\n",
              "</style>\n"
            ]
          },
          "metadata": {}
        },
        {
          "output_type": "display_data",
          "data": {
            "text/plain": [
              "<IPython.core.display.HTML object>"
            ],
            "text/html": [
              "<table border=\"1\" class=\"dataframe\">\n",
              "  <thead>\n",
              "    <tr style=\"text-align: left;\">\n",
              "      <th>epoch</th>\n",
              "      <th>train_loss</th>\n",
              "      <th>valid_loss</th>\n",
              "      <th>accuracy</th>\n",
              "      <th>time</th>\n",
              "    </tr>\n",
              "  </thead>\n",
              "  <tbody>\n",
              "    <tr>\n",
              "      <td>0</td>\n",
              "      <td>0.206766</td>\n",
              "      <td>0.164058</td>\n",
              "      <td>0.953125</td>\n",
              "      <td>00:04</td>\n",
              "    </tr>\n",
              "    <tr>\n",
              "      <td>1</td>\n",
              "      <td>0.174371</td>\n",
              "      <td>0.124909</td>\n",
              "      <td>0.984375</td>\n",
              "      <td>00:04</td>\n",
              "    </tr>\n",
              "    <tr>\n",
              "      <td>2</td>\n",
              "      <td>0.112236</td>\n",
              "      <td>0.153707</td>\n",
              "      <td>0.953125</td>\n",
              "      <td>00:03</td>\n",
              "    </tr>\n",
              "    <tr>\n",
              "      <td>3</td>\n",
              "      <td>0.063637</td>\n",
              "      <td>0.126055</td>\n",
              "      <td>0.968750</td>\n",
              "      <td>00:03</td>\n",
              "    </tr>\n",
              "    <tr>\n",
              "      <td>4</td>\n",
              "      <td>0.038376</td>\n",
              "      <td>0.128453</td>\n",
              "      <td>0.968750</td>\n",
              "      <td>00:03</td>\n",
              "    </tr>\n",
              "    <tr>\n",
              "      <td>5</td>\n",
              "      <td>0.021950</td>\n",
              "      <td>0.130396</td>\n",
              "      <td>0.953125</td>\n",
              "      <td>00:04</td>\n",
              "    </tr>\n",
              "    <tr>\n",
              "      <td>6</td>\n",
              "      <td>0.013279</td>\n",
              "      <td>0.134083</td>\n",
              "      <td>0.953125</td>\n",
              "      <td>00:03</td>\n",
              "    </tr>\n",
              "    <tr>\n",
              "      <td>7</td>\n",
              "      <td>0.008502</td>\n",
              "      <td>0.130248</td>\n",
              "      <td>0.968750</td>\n",
              "      <td>00:03</td>\n",
              "    </tr>\n",
              "    <tr>\n",
              "      <td>8</td>\n",
              "      <td>0.006192</td>\n",
              "      <td>0.133673</td>\n",
              "      <td>0.968750</td>\n",
              "      <td>00:04</td>\n",
              "    </tr>\n",
              "    <tr>\n",
              "      <td>9</td>\n",
              "      <td>0.004819</td>\n",
              "      <td>0.133053</td>\n",
              "      <td>0.968750</td>\n",
              "      <td>00:03</td>\n",
              "    </tr>\n",
              "  </tbody>\n",
              "</table>"
            ]
          },
          "metadata": {}
        }
      ]
    },
    {
      "cell_type": "code",
      "source": [
        "learner.export('model1.pkl')"
      ],
      "metadata": {
        "id": "Y8O6f_e7N1oH"
      },
      "execution_count": 53,
      "outputs": []
    },
    {
      "cell_type": "code",
      "source": [
        "learner.blurr_predict(\"Nogipson, Tom Cruise and Kanye have all expressed too much emotion in public. Do bodily reactions come as a result of the thought I'm scared, or did my tweaking out body trigger the thought in my brain? These are just some of the questions that we'll be looking at in this messy, exhilarating and terrifying world\")"
      ],
      "metadata": {
        "colab": {
          "base_uri": "https://localhost:8080/"
        },
        "id": "NdIopJbBGNU1",
        "outputId": "3eab868e-2c98-462f-c07e-d23b66c20d02"
      },
      "execution_count": 54,
      "outputs": [
        {
          "output_type": "execute_result",
          "data": {
            "text/plain": [
              "[{'label': 'P',\n",
              "  'score': 0.9456073045730591,\n",
              "  'class_index': 10,\n",
              "  'class_labels': ['Art', 'Astrology', 'Biology', 'Chemistry', 'Economics', 'History', 'Literature', 'Philosophy', 'Physics', 'Politics', 'Psychology', 'Sociology'],\n",
              "  'probs': [0.007283535785973072,\n",
              "   0.0020284990314394236,\n",
              "   0.00208982708863914,\n",
              "   0.0006364283035509288,\n",
              "   0.0007982599199749529,\n",
              "   8.388983405893669e-05,\n",
              "   0.0025381038431078196,\n",
              "   0.02827736735343933,\n",
              "   0.008687506429851055,\n",
              "   0.0005010039312765002,\n",
              "   0.9456073045730591,\n",
              "   0.001468224567361176]}]"
            ]
          },
          "metadata": {},
          "execution_count": 54
        }
      ]
    },
    {
      "cell_type": "code",
      "source": [
        "! pip install -q onnxruntime onnx"
      ],
      "metadata": {
        "id": "qAg7tur_G498",
        "outputId": "ac1bacc9-1b38-4707-cfcc-d05f7939b225",
        "colab": {
          "base_uri": "https://localhost:8080/"
        }
      },
      "execution_count": 65,
      "outputs": [
        {
          "output_type": "stream",
          "name": "stdout",
          "text": [
            "\u001b[?25l     \u001b[90m━━━━━━━━━━━━━━━━━━━━━━━━━━━━━━━━━━━━━━━━\u001b[0m \u001b[32m0.0/13.5 MB\u001b[0m \u001b[31m?\u001b[0m eta \u001b[36m-:--:--\u001b[0m\r\u001b[2K     \u001b[91m━━━━━━━━━━━\u001b[0m\u001b[91m╸\u001b[0m\u001b[90m━━━━━━━━━━━━━━━━━━━━━━━━━━━━\u001b[0m \u001b[32m4.0/13.5 MB\u001b[0m \u001b[31m119.1 MB/s\u001b[0m eta \u001b[36m0:00:01\u001b[0m\r\u001b[2K     \u001b[91m━━━━━━━━━━━━━━━━━━━━━━━━━━━━━\u001b[0m\u001b[91m╸\u001b[0m\u001b[90m━━━━━━━━━\u001b[0m \u001b[32m10.2/13.5 MB\u001b[0m \u001b[31m148.5 MB/s\u001b[0m eta \u001b[36m0:00:01\u001b[0m\r\u001b[2K     \u001b[91m━━━━━━━━━━━━━━━━━━━━━━━━━━━━━━━━━━━━━━\u001b[0m\u001b[91m╸\u001b[0m \u001b[32m13.4/13.5 MB\u001b[0m \u001b[31m169.6 MB/s\u001b[0m eta \u001b[36m0:00:01\u001b[0m\r\u001b[2K     \u001b[91m━━━━━━━━━━━━━━━━━━━━━━━━━━━━━━━━━━━━━━\u001b[0m\u001b[91m╸\u001b[0m \u001b[32m13.4/13.5 MB\u001b[0m \u001b[31m169.6 MB/s\u001b[0m eta \u001b[36m0:00:01\u001b[0m\r\u001b[2K     \u001b[90m━━━━━━━━━━━━━━━━━━━━━━━━━━━━━━━━━━━━━━━━\u001b[0m \u001b[32m13.5/13.5 MB\u001b[0m \u001b[31m82.4 MB/s\u001b[0m eta \u001b[36m0:00:00\u001b[0m\n",
            "\u001b[?25h"
          ]
        }
      ]
    },
    {
      "cell_type": "code",
      "source": [
        "import onnx\n",
        "from onnxruntime.quantization import quantize_dynamic, QuantType"
      ],
      "metadata": {
        "id": "w1FGRil0G3Cb"
      },
      "execution_count": 66,
      "outputs": []
    },
    {
      "cell_type": "code",
      "source": [
        "model = load_learner('model1.pkl')"
      ],
      "metadata": {
        "id": "rGA8yi1dGImL"
      },
      "execution_count": 58,
      "outputs": []
    },
    {
      "cell_type": "code",
      "source": [
        "classifier = model.model.hf_model.eval()\n",
        "torch.onnx.export(\n",
        "    classifier, \n",
        "    torch.LongTensor([[0] * 512]),\n",
        "    'classifier.onnx',\n",
        "    input_names=['input_ids'],\n",
        "    output_names=['output'],\n",
        "    opset_version=14,\n",
        "    dynamic_axes={\n",
        "        'input_ids': {0: 'batch_size', 1: 'sequence_len'},\n",
        "        'output': {0: 'batch_size'}\n",
        "    }\n",
        ")"
      ],
      "metadata": {
        "id": "KOmPl4-aFXcE"
      },
      "execution_count": 59,
      "outputs": []
    },
    {
      "cell_type": "code",
      "source": [
        "onnx_model_path = 'classifier.onnx'\n",
        "quantized_onnx_model_path = 'classifier-quantized2.onnx'\n",
        "\n",
        "quantize_dynamic(\n",
        "    onnx_model_path,\n",
        "    quantized_onnx_model_path,\n",
        "    weight_type=QuantType.QUInt8,\n",
        ")"
      ],
      "metadata": {
        "id": "Uz1QSbf-F9Z0",
        "outputId": "2ea1a397-0f3c-4bd0-b5e9-940aec6cbb8d",
        "colab": {
          "base_uri": "https://localhost:8080/"
        }
      },
      "execution_count": 67,
      "outputs": [
        {
          "output_type": "stream",
          "name": "stdout",
          "text": [
            "Ignore MatMul due to non constant B: /[/roberta/encoder/layer.0/attention/self/MatMul]\n",
            "Ignore MatMul due to non constant B: /[/roberta/encoder/layer.0/attention/self/MatMul_1]\n",
            "Ignore MatMul due to non constant B: /[/roberta/encoder/layer.1/attention/self/MatMul]\n",
            "Ignore MatMul due to non constant B: /[/roberta/encoder/layer.1/attention/self/MatMul_1]\n",
            "Ignore MatMul due to non constant B: /[/roberta/encoder/layer.2/attention/self/MatMul]\n",
            "Ignore MatMul due to non constant B: /[/roberta/encoder/layer.2/attention/self/MatMul_1]\n",
            "Ignore MatMul due to non constant B: /[/roberta/encoder/layer.3/attention/self/MatMul]\n",
            "Ignore MatMul due to non constant B: /[/roberta/encoder/layer.3/attention/self/MatMul_1]\n",
            "Ignore MatMul due to non constant B: /[/roberta/encoder/layer.4/attention/self/MatMul]\n",
            "Ignore MatMul due to non constant B: /[/roberta/encoder/layer.4/attention/self/MatMul_1]\n",
            "Ignore MatMul due to non constant B: /[/roberta/encoder/layer.5/attention/self/MatMul]\n",
            "Ignore MatMul due to non constant B: /[/roberta/encoder/layer.5/attention/self/MatMul_1]\n"
          ]
        }
      ]
    },
    {
      "cell_type": "code",
      "source": [],
      "metadata": {
        "id": "X1aOzmR3G0W1"
      },
      "execution_count": null,
      "outputs": []
    }
  ]
}