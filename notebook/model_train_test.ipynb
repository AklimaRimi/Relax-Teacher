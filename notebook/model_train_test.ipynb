{
  "nbformat": 4,
  "nbformat_minor": 0,
  "metadata": {
    "colab": {
      "provenance": [],
      "authorship_tag": "ABX9TyNQkD3VUkqMc1dr4fNEmTHR",
      "include_colab_link": true
    },
    "kernelspec": {
      "name": "python3",
      "display_name": "Python 3"
    },
    "language_info": {
      "name": "python"
    },
    "accelerator": "GPU",
    "gpuClass": "standard",
    "widgets": {
      "application/vnd.jupyter.widget-state+json": {
        "610f23fef27f4170826ddecbaa19eb78": {
          "model_module": "@jupyter-widgets/controls",
          "model_name": "HBoxModel",
          "model_module_version": "1.5.0",
          "state": {
            "_dom_classes": [],
            "_model_module": "@jupyter-widgets/controls",
            "_model_module_version": "1.5.0",
            "_model_name": "HBoxModel",
            "_view_count": null,
            "_view_module": "@jupyter-widgets/controls",
            "_view_module_version": "1.5.0",
            "_view_name": "HBoxView",
            "box_style": "",
            "children": [
              "IPY_MODEL_cc46aef0cfcf463fb4fde27f62bd608b",
              "IPY_MODEL_8e0dd8c6561a4490b5c40048932b27c7",
              "IPY_MODEL_03bc60595dd44eb890b9f2f082ff5ad9"
            ],
            "layout": "IPY_MODEL_60b876be5041462e998a78fa471e8b36"
          }
        },
        "cc46aef0cfcf463fb4fde27f62bd608b": {
          "model_module": "@jupyter-widgets/controls",
          "model_name": "HTMLModel",
          "model_module_version": "1.5.0",
          "state": {
            "_dom_classes": [],
            "_model_module": "@jupyter-widgets/controls",
            "_model_module_version": "1.5.0",
            "_model_name": "HTMLModel",
            "_view_count": null,
            "_view_module": "@jupyter-widgets/controls",
            "_view_module_version": "1.5.0",
            "_view_name": "HTMLView",
            "description": "",
            "description_tooltip": null,
            "layout": "IPY_MODEL_982a662f338043dd83a40c7fd19f121f",
            "placeholder": "​",
            "style": "IPY_MODEL_a8356b102cf0427d8da4a745f00e5094",
            "value": "Downloading builder script: "
          }
        },
        "8e0dd8c6561a4490b5c40048932b27c7": {
          "model_module": "@jupyter-widgets/controls",
          "model_name": "FloatProgressModel",
          "model_module_version": "1.5.0",
          "state": {
            "_dom_classes": [],
            "_model_module": "@jupyter-widgets/controls",
            "_model_module_version": "1.5.0",
            "_model_name": "FloatProgressModel",
            "_view_count": null,
            "_view_module": "@jupyter-widgets/controls",
            "_view_module_version": "1.5.0",
            "_view_name": "ProgressView",
            "bar_style": "success",
            "description": "",
            "description_tooltip": null,
            "layout": "IPY_MODEL_25274554c59b481d9a49ec7ad5a632ac",
            "max": 1715,
            "min": 0,
            "orientation": "horizontal",
            "style": "IPY_MODEL_03ee3efcf2574d77880930116c9a49ed",
            "value": 1715
          }
        },
        "03bc60595dd44eb890b9f2f082ff5ad9": {
          "model_module": "@jupyter-widgets/controls",
          "model_name": "HTMLModel",
          "model_module_version": "1.5.0",
          "state": {
            "_dom_classes": [],
            "_model_module": "@jupyter-widgets/controls",
            "_model_module_version": "1.5.0",
            "_model_name": "HTMLModel",
            "_view_count": null,
            "_view_module": "@jupyter-widgets/controls",
            "_view_module_version": "1.5.0",
            "_view_name": "HTMLView",
            "description": "",
            "description_tooltip": null,
            "layout": "IPY_MODEL_e914332140634ccaa0cb414ea8897446",
            "placeholder": "​",
            "style": "IPY_MODEL_70096627bcb344d89e6c10c390f84c66",
            "value": " 4.50k/? [00:00&lt;00:00, 237kB/s]"
          }
        },
        "60b876be5041462e998a78fa471e8b36": {
          "model_module": "@jupyter-widgets/base",
          "model_name": "LayoutModel",
          "model_module_version": "1.2.0",
          "state": {
            "_model_module": "@jupyter-widgets/base",
            "_model_module_version": "1.2.0",
            "_model_name": "LayoutModel",
            "_view_count": null,
            "_view_module": "@jupyter-widgets/base",
            "_view_module_version": "1.2.0",
            "_view_name": "LayoutView",
            "align_content": null,
            "align_items": null,
            "align_self": null,
            "border": null,
            "bottom": null,
            "display": null,
            "flex": null,
            "flex_flow": null,
            "grid_area": null,
            "grid_auto_columns": null,
            "grid_auto_flow": null,
            "grid_auto_rows": null,
            "grid_column": null,
            "grid_gap": null,
            "grid_row": null,
            "grid_template_areas": null,
            "grid_template_columns": null,
            "grid_template_rows": null,
            "height": null,
            "justify_content": null,
            "justify_items": null,
            "left": null,
            "margin": null,
            "max_height": null,
            "max_width": null,
            "min_height": null,
            "min_width": null,
            "object_fit": null,
            "object_position": null,
            "order": null,
            "overflow": null,
            "overflow_x": null,
            "overflow_y": null,
            "padding": null,
            "right": null,
            "top": null,
            "visibility": null,
            "width": null
          }
        },
        "982a662f338043dd83a40c7fd19f121f": {
          "model_module": "@jupyter-widgets/base",
          "model_name": "LayoutModel",
          "model_module_version": "1.2.0",
          "state": {
            "_model_module": "@jupyter-widgets/base",
            "_model_module_version": "1.2.0",
            "_model_name": "LayoutModel",
            "_view_count": null,
            "_view_module": "@jupyter-widgets/base",
            "_view_module_version": "1.2.0",
            "_view_name": "LayoutView",
            "align_content": null,
            "align_items": null,
            "align_self": null,
            "border": null,
            "bottom": null,
            "display": null,
            "flex": null,
            "flex_flow": null,
            "grid_area": null,
            "grid_auto_columns": null,
            "grid_auto_flow": null,
            "grid_auto_rows": null,
            "grid_column": null,
            "grid_gap": null,
            "grid_row": null,
            "grid_template_areas": null,
            "grid_template_columns": null,
            "grid_template_rows": null,
            "height": null,
            "justify_content": null,
            "justify_items": null,
            "left": null,
            "margin": null,
            "max_height": null,
            "max_width": null,
            "min_height": null,
            "min_width": null,
            "object_fit": null,
            "object_position": null,
            "order": null,
            "overflow": null,
            "overflow_x": null,
            "overflow_y": null,
            "padding": null,
            "right": null,
            "top": null,
            "visibility": null,
            "width": null
          }
        },
        "a8356b102cf0427d8da4a745f00e5094": {
          "model_module": "@jupyter-widgets/controls",
          "model_name": "DescriptionStyleModel",
          "model_module_version": "1.5.0",
          "state": {
            "_model_module": "@jupyter-widgets/controls",
            "_model_module_version": "1.5.0",
            "_model_name": "DescriptionStyleModel",
            "_view_count": null,
            "_view_module": "@jupyter-widgets/base",
            "_view_module_version": "1.2.0",
            "_view_name": "StyleView",
            "description_width": ""
          }
        },
        "25274554c59b481d9a49ec7ad5a632ac": {
          "model_module": "@jupyter-widgets/base",
          "model_name": "LayoutModel",
          "model_module_version": "1.2.0",
          "state": {
            "_model_module": "@jupyter-widgets/base",
            "_model_module_version": "1.2.0",
            "_model_name": "LayoutModel",
            "_view_count": null,
            "_view_module": "@jupyter-widgets/base",
            "_view_module_version": "1.2.0",
            "_view_name": "LayoutView",
            "align_content": null,
            "align_items": null,
            "align_self": null,
            "border": null,
            "bottom": null,
            "display": null,
            "flex": null,
            "flex_flow": null,
            "grid_area": null,
            "grid_auto_columns": null,
            "grid_auto_flow": null,
            "grid_auto_rows": null,
            "grid_column": null,
            "grid_gap": null,
            "grid_row": null,
            "grid_template_areas": null,
            "grid_template_columns": null,
            "grid_template_rows": null,
            "height": null,
            "justify_content": null,
            "justify_items": null,
            "left": null,
            "margin": null,
            "max_height": null,
            "max_width": null,
            "min_height": null,
            "min_width": null,
            "object_fit": null,
            "object_position": null,
            "order": null,
            "overflow": null,
            "overflow_x": null,
            "overflow_y": null,
            "padding": null,
            "right": null,
            "top": null,
            "visibility": null,
            "width": null
          }
        },
        "03ee3efcf2574d77880930116c9a49ed": {
          "model_module": "@jupyter-widgets/controls",
          "model_name": "ProgressStyleModel",
          "model_module_version": "1.5.0",
          "state": {
            "_model_module": "@jupyter-widgets/controls",
            "_model_module_version": "1.5.0",
            "_model_name": "ProgressStyleModel",
            "_view_count": null,
            "_view_module": "@jupyter-widgets/base",
            "_view_module_version": "1.2.0",
            "_view_name": "StyleView",
            "bar_color": null,
            "description_width": ""
          }
        },
        "e914332140634ccaa0cb414ea8897446": {
          "model_module": "@jupyter-widgets/base",
          "model_name": "LayoutModel",
          "model_module_version": "1.2.0",
          "state": {
            "_model_module": "@jupyter-widgets/base",
            "_model_module_version": "1.2.0",
            "_model_name": "LayoutModel",
            "_view_count": null,
            "_view_module": "@jupyter-widgets/base",
            "_view_module_version": "1.2.0",
            "_view_name": "LayoutView",
            "align_content": null,
            "align_items": null,
            "align_self": null,
            "border": null,
            "bottom": null,
            "display": null,
            "flex": null,
            "flex_flow": null,
            "grid_area": null,
            "grid_auto_columns": null,
            "grid_auto_flow": null,
            "grid_auto_rows": null,
            "grid_column": null,
            "grid_gap": null,
            "grid_row": null,
            "grid_template_areas": null,
            "grid_template_columns": null,
            "grid_template_rows": null,
            "height": null,
            "justify_content": null,
            "justify_items": null,
            "left": null,
            "margin": null,
            "max_height": null,
            "max_width": null,
            "min_height": null,
            "min_width": null,
            "object_fit": null,
            "object_position": null,
            "order": null,
            "overflow": null,
            "overflow_x": null,
            "overflow_y": null,
            "padding": null,
            "right": null,
            "top": null,
            "visibility": null,
            "width": null
          }
        },
        "70096627bcb344d89e6c10c390f84c66": {
          "model_module": "@jupyter-widgets/controls",
          "model_name": "DescriptionStyleModel",
          "model_module_version": "1.5.0",
          "state": {
            "_model_module": "@jupyter-widgets/controls",
            "_model_module_version": "1.5.0",
            "_model_name": "DescriptionStyleModel",
            "_view_count": null,
            "_view_module": "@jupyter-widgets/base",
            "_view_module_version": "1.2.0",
            "_view_name": "StyleView",
            "description_width": ""
          }
        },
        "38b63dcc22cb465fbb694d9552bc1921": {
          "model_module": "@jupyter-widgets/controls",
          "model_name": "HBoxModel",
          "model_module_version": "1.5.0",
          "state": {
            "_dom_classes": [],
            "_model_module": "@jupyter-widgets/controls",
            "_model_module_version": "1.5.0",
            "_model_name": "HBoxModel",
            "_view_count": null,
            "_view_module": "@jupyter-widgets/controls",
            "_view_module_version": "1.5.0",
            "_view_name": "HBoxView",
            "box_style": "",
            "children": [
              "IPY_MODEL_51df251893804227b627579d00efc856",
              "IPY_MODEL_b946112080904ae5b30296f21bde95a7",
              "IPY_MODEL_85ed3ace731e4581a7472b9a33d02873"
            ],
            "layout": "IPY_MODEL_473ce95a812c4d55a2d7445da08e3e94"
          }
        },
        "51df251893804227b627579d00efc856": {
          "model_module": "@jupyter-widgets/controls",
          "model_name": "HTMLModel",
          "model_module_version": "1.5.0",
          "state": {
            "_dom_classes": [],
            "_model_module": "@jupyter-widgets/controls",
            "_model_module_version": "1.5.0",
            "_model_name": "HTMLModel",
            "_view_count": null,
            "_view_module": "@jupyter-widgets/controls",
            "_view_module_version": "1.5.0",
            "_view_name": "HTMLView",
            "description": "",
            "description_tooltip": null,
            "layout": "IPY_MODEL_e7c96702882440df9ca39717996d7888",
            "placeholder": "​",
            "style": "IPY_MODEL_2c5e9073e5ab4731b433f5c8422a3c55",
            "value": "Downloading extra modules: "
          }
        },
        "b946112080904ae5b30296f21bde95a7": {
          "model_module": "@jupyter-widgets/controls",
          "model_name": "FloatProgressModel",
          "model_module_version": "1.5.0",
          "state": {
            "_dom_classes": [],
            "_model_module": "@jupyter-widgets/controls",
            "_model_module_version": "1.5.0",
            "_model_name": "FloatProgressModel",
            "_view_count": null,
            "_view_module": "@jupyter-widgets/controls",
            "_view_module_version": "1.5.0",
            "_view_name": "ProgressView",
            "bar_style": "success",
            "description": "",
            "description_tooltip": null,
            "layout": "IPY_MODEL_7e056787b83f48f3961870538a20b1ff",
            "max": 1119,
            "min": 0,
            "orientation": "horizontal",
            "style": "IPY_MODEL_8eb9e0f1621140df8f0f0d9168105d97",
            "value": 1119
          }
        },
        "85ed3ace731e4581a7472b9a33d02873": {
          "model_module": "@jupyter-widgets/controls",
          "model_name": "HTMLModel",
          "model_module_version": "1.5.0",
          "state": {
            "_dom_classes": [],
            "_model_module": "@jupyter-widgets/controls",
            "_model_module_version": "1.5.0",
            "_model_name": "HTMLModel",
            "_view_count": null,
            "_view_module": "@jupyter-widgets/controls",
            "_view_module_version": "1.5.0",
            "_view_name": "HTMLView",
            "description": "",
            "description_tooltip": null,
            "layout": "IPY_MODEL_c4ef99f5135341a1bc8489eb2437c8e5",
            "placeholder": "​",
            "style": "IPY_MODEL_4342b676576644f28ef734259de4a59a",
            "value": " 3.31k/? [00:00&lt;00:00, 171kB/s]"
          }
        },
        "473ce95a812c4d55a2d7445da08e3e94": {
          "model_module": "@jupyter-widgets/base",
          "model_name": "LayoutModel",
          "model_module_version": "1.2.0",
          "state": {
            "_model_module": "@jupyter-widgets/base",
            "_model_module_version": "1.2.0",
            "_model_name": "LayoutModel",
            "_view_count": null,
            "_view_module": "@jupyter-widgets/base",
            "_view_module_version": "1.2.0",
            "_view_name": "LayoutView",
            "align_content": null,
            "align_items": null,
            "align_self": null,
            "border": null,
            "bottom": null,
            "display": null,
            "flex": null,
            "flex_flow": null,
            "grid_area": null,
            "grid_auto_columns": null,
            "grid_auto_flow": null,
            "grid_auto_rows": null,
            "grid_column": null,
            "grid_gap": null,
            "grid_row": null,
            "grid_template_areas": null,
            "grid_template_columns": null,
            "grid_template_rows": null,
            "height": null,
            "justify_content": null,
            "justify_items": null,
            "left": null,
            "margin": null,
            "max_height": null,
            "max_width": null,
            "min_height": null,
            "min_width": null,
            "object_fit": null,
            "object_position": null,
            "order": null,
            "overflow": null,
            "overflow_x": null,
            "overflow_y": null,
            "padding": null,
            "right": null,
            "top": null,
            "visibility": null,
            "width": null
          }
        },
        "e7c96702882440df9ca39717996d7888": {
          "model_module": "@jupyter-widgets/base",
          "model_name": "LayoutModel",
          "model_module_version": "1.2.0",
          "state": {
            "_model_module": "@jupyter-widgets/base",
            "_model_module_version": "1.2.0",
            "_model_name": "LayoutModel",
            "_view_count": null,
            "_view_module": "@jupyter-widgets/base",
            "_view_module_version": "1.2.0",
            "_view_name": "LayoutView",
            "align_content": null,
            "align_items": null,
            "align_self": null,
            "border": null,
            "bottom": null,
            "display": null,
            "flex": null,
            "flex_flow": null,
            "grid_area": null,
            "grid_auto_columns": null,
            "grid_auto_flow": null,
            "grid_auto_rows": null,
            "grid_column": null,
            "grid_gap": null,
            "grid_row": null,
            "grid_template_areas": null,
            "grid_template_columns": null,
            "grid_template_rows": null,
            "height": null,
            "justify_content": null,
            "justify_items": null,
            "left": null,
            "margin": null,
            "max_height": null,
            "max_width": null,
            "min_height": null,
            "min_width": null,
            "object_fit": null,
            "object_position": null,
            "order": null,
            "overflow": null,
            "overflow_x": null,
            "overflow_y": null,
            "padding": null,
            "right": null,
            "top": null,
            "visibility": null,
            "width": null
          }
        },
        "2c5e9073e5ab4731b433f5c8422a3c55": {
          "model_module": "@jupyter-widgets/controls",
          "model_name": "DescriptionStyleModel",
          "model_module_version": "1.5.0",
          "state": {
            "_model_module": "@jupyter-widgets/controls",
            "_model_module_version": "1.5.0",
            "_model_name": "DescriptionStyleModel",
            "_view_count": null,
            "_view_module": "@jupyter-widgets/base",
            "_view_module_version": "1.2.0",
            "_view_name": "StyleView",
            "description_width": ""
          }
        },
        "7e056787b83f48f3961870538a20b1ff": {
          "model_module": "@jupyter-widgets/base",
          "model_name": "LayoutModel",
          "model_module_version": "1.2.0",
          "state": {
            "_model_module": "@jupyter-widgets/base",
            "_model_module_version": "1.2.0",
            "_model_name": "LayoutModel",
            "_view_count": null,
            "_view_module": "@jupyter-widgets/base",
            "_view_module_version": "1.2.0",
            "_view_name": "LayoutView",
            "align_content": null,
            "align_items": null,
            "align_self": null,
            "border": null,
            "bottom": null,
            "display": null,
            "flex": null,
            "flex_flow": null,
            "grid_area": null,
            "grid_auto_columns": null,
            "grid_auto_flow": null,
            "grid_auto_rows": null,
            "grid_column": null,
            "grid_gap": null,
            "grid_row": null,
            "grid_template_areas": null,
            "grid_template_columns": null,
            "grid_template_rows": null,
            "height": null,
            "justify_content": null,
            "justify_items": null,
            "left": null,
            "margin": null,
            "max_height": null,
            "max_width": null,
            "min_height": null,
            "min_width": null,
            "object_fit": null,
            "object_position": null,
            "order": null,
            "overflow": null,
            "overflow_x": null,
            "overflow_y": null,
            "padding": null,
            "right": null,
            "top": null,
            "visibility": null,
            "width": null
          }
        },
        "8eb9e0f1621140df8f0f0d9168105d97": {
          "model_module": "@jupyter-widgets/controls",
          "model_name": "ProgressStyleModel",
          "model_module_version": "1.5.0",
          "state": {
            "_model_module": "@jupyter-widgets/controls",
            "_model_module_version": "1.5.0",
            "_model_name": "ProgressStyleModel",
            "_view_count": null,
            "_view_module": "@jupyter-widgets/base",
            "_view_module_version": "1.2.0",
            "_view_name": "StyleView",
            "bar_color": null,
            "description_width": ""
          }
        },
        "c4ef99f5135341a1bc8489eb2437c8e5": {
          "model_module": "@jupyter-widgets/base",
          "model_name": "LayoutModel",
          "model_module_version": "1.2.0",
          "state": {
            "_model_module": "@jupyter-widgets/base",
            "_model_module_version": "1.2.0",
            "_model_name": "LayoutModel",
            "_view_count": null,
            "_view_module": "@jupyter-widgets/base",
            "_view_module_version": "1.2.0",
            "_view_name": "LayoutView",
            "align_content": null,
            "align_items": null,
            "align_self": null,
            "border": null,
            "bottom": null,
            "display": null,
            "flex": null,
            "flex_flow": null,
            "grid_area": null,
            "grid_auto_columns": null,
            "grid_auto_flow": null,
            "grid_auto_rows": null,
            "grid_column": null,
            "grid_gap": null,
            "grid_row": null,
            "grid_template_areas": null,
            "grid_template_columns": null,
            "grid_template_rows": null,
            "height": null,
            "justify_content": null,
            "justify_items": null,
            "left": null,
            "margin": null,
            "max_height": null,
            "max_width": null,
            "min_height": null,
            "min_width": null,
            "object_fit": null,
            "object_position": null,
            "order": null,
            "overflow": null,
            "overflow_x": null,
            "overflow_y": null,
            "padding": null,
            "right": null,
            "top": null,
            "visibility": null,
            "width": null
          }
        },
        "4342b676576644f28ef734259de4a59a": {
          "model_module": "@jupyter-widgets/controls",
          "model_name": "DescriptionStyleModel",
          "model_module_version": "1.5.0",
          "state": {
            "_model_module": "@jupyter-widgets/controls",
            "_model_module_version": "1.5.0",
            "_model_name": "DescriptionStyleModel",
            "_view_count": null,
            "_view_module": "@jupyter-widgets/base",
            "_view_module_version": "1.2.0",
            "_view_name": "StyleView",
            "description_width": ""
          }
        }
      }
    }
  },
  "cells": [
    {
      "cell_type": "markdown",
      "metadata": {
        "id": "view-in-github",
        "colab_type": "text"
      },
      "source": [
        "<a href=\"https://colab.research.google.com/github/AklimaRimi/online-class/blob/main/notebook/model_train_test.ipynb\" target=\"_parent\"><img src=\"https://colab.research.google.com/assets/colab-badge.svg\" alt=\"Open In Colab\"/></a>"
      ]
    },
    {
      "cell_type": "code",
      "execution_count": 1,
      "metadata": {
        "colab": {
          "base_uri": "https://localhost:8080/"
        },
        "id": "b8A3rsk-nv2A",
        "outputId": "0f6eba45-8b29-4e49-cd68-aa915df774ef"
      },
      "outputs": [
        {
          "output_type": "stream",
          "name": "stdout",
          "text": [
            "fatal: destination path 'online-class' already exists and is not an empty directory.\n"
          ]
        }
      ],
      "source": [
        "! git clone https://github.com/AklimaRimi/online-class.git"
      ]
    },
    {
      "cell_type": "code",
      "source": [
        "!pip install -q fastbook transformers datasets evaluate ohmeow-blurr"
      ],
      "metadata": {
        "id": "8udfKJmfpAr5"
      },
      "execution_count": 2,
      "outputs": []
    },
    {
      "cell_type": "code",
      "source": [
        "import torch"
      ],
      "metadata": {
        "id": "R8Tp6ULg7Rdo"
      },
      "execution_count": 3,
      "outputs": []
    },
    {
      "cell_type": "code",
      "source": [
        "from fastai import *\n",
        "from fastbook import *\n",
        "import pandas as pd\n",
        "from fastai.text.all import *\n",
        "from datasets import Dataset\n",
        "from transformers import AutoTokenizer\n",
        "from transformers import AutoModelForSequenceClassification,AutoConfig\n",
        "from blurr.text.data.all import *\n",
        "from blurr.text.modeling.all import *\n"
      ],
      "metadata": {
        "colab": {
          "base_uri": "https://localhost:8080/",
          "height": 136,
          "referenced_widgets": [
            "610f23fef27f4170826ddecbaa19eb78",
            "cc46aef0cfcf463fb4fde27f62bd608b",
            "8e0dd8c6561a4490b5c40048932b27c7",
            "03bc60595dd44eb890b9f2f082ff5ad9",
            "60b876be5041462e998a78fa471e8b36",
            "982a662f338043dd83a40c7fd19f121f",
            "a8356b102cf0427d8da4a745f00e5094",
            "25274554c59b481d9a49ec7ad5a632ac",
            "03ee3efcf2574d77880930116c9a49ed",
            "e914332140634ccaa0cb414ea8897446",
            "70096627bcb344d89e6c10c390f84c66",
            "38b63dcc22cb465fbb694d9552bc1921",
            "51df251893804227b627579d00efc856",
            "b946112080904ae5b30296f21bde95a7",
            "85ed3ace731e4581a7472b9a33d02873",
            "473ce95a812c4d55a2d7445da08e3e94",
            "e7c96702882440df9ca39717996d7888",
            "2c5e9073e5ab4731b433f5c8422a3c55",
            "7e056787b83f48f3961870538a20b1ff",
            "8eb9e0f1621140df8f0f0d9168105d97",
            "c4ef99f5135341a1bc8489eb2437c8e5",
            "4342b676576644f28ef734259de4a59a"
          ]
        },
        "id": "_PrWYxFJn571",
        "outputId": "89aefd88-3ebc-4d5b-ea0d-b62aceffac14"
      },
      "execution_count": 4,
      "outputs": [
        {
          "output_type": "stream",
          "name": "stderr",
          "text": [
            "/usr/local/lib/python3.9/dist-packages/blurr/text/modeling/question_answering.py:31: FutureWarning: load_metric is deprecated and will be removed in the next major version of datasets. Use 'evaluate.load' instead, from the new library 🤗 Evaluate: https://huggingface.co/docs/evaluate\n",
            "  squad_metric = load_metric(\"squad\")\n"
          ]
        },
        {
          "output_type": "display_data",
          "data": {
            "text/plain": [
              "Downloading builder script:   0%|          | 0.00/1.72k [00:00<?, ?B/s]"
            ],
            "application/vnd.jupyter.widget-view+json": {
              "version_major": 2,
              "version_minor": 0,
              "model_id": "610f23fef27f4170826ddecbaa19eb78"
            }
          },
          "metadata": {}
        },
        {
          "output_type": "display_data",
          "data": {
            "text/plain": [
              "Downloading extra modules:   0%|          | 0.00/1.12k [00:00<?, ?B/s]"
            ],
            "application/vnd.jupyter.widget-view+json": {
              "version_major": 2,
              "version_minor": 0,
              "model_id": "38b63dcc22cb465fbb694d9552bc1921"
            }
          },
          "metadata": {}
        }
      ]
    },
    {
      "cell_type": "code",
      "source": [
        "data = pd.read_csv('/content/online-class/data/datawithSummary.csv')\n",
        "data.tail()"
      ],
      "metadata": {
        "colab": {
          "base_uri": "https://localhost:8080/",
          "height": 770
        },
        "id": "F5ZQJdIIoLLp",
        "outputId": "dbcb4a97-b41c-4264-df87-431f84df3824"
      },
      "execution_count": 5,
      "outputs": [
        {
          "output_type": "execute_result",
          "data": {
            "text/plain": [
              "                                                                                                                                                                                                                                                                                                                                                                                                                                                                                                                                                                                                                           x  \\\n",
              "642   Say it's late at night. You're home alone drifting off to sleep. Just entering that dream about fritos and then something is a banging at the door. Suddenly, your wide awake and it feels like your heart's gonna explode. You jump up, ready to run out the back door, possibly grab a Phillips head screwdriver and stab it into the darkness until it sticks into something. Now, whether it's a weeping angel or your neighbor looking to borrow a can of beans, it doesn't really matter because when you heard that sudden noise, your startled brain released an icy typhoon of chemicals. And everything t...   \n",
              "643   If someone in a position of authority told you to like stop walking on the grass, you would stop walking on the grass, right? And if they told you to help someone's grandma cross the street or pick up your dog's poop or put your shoes on before you go into a store, you probably comply. But what if they ordered you to physically hurt another person? You're probably thinking, no way, I could never do something like that. But there's a good chance you're wrong. began his work during the widely publicized trial of World War II Nazi War criminal Adolf Eichmann. Eichmann's defense, along with o...   \n",
              "644   Here's the riddle in my hobbits, is what's something that we all experience all the time that we can't really measure and barely have words to define. You can't hold it in your hand or take a bite out of it. It isn't something you learn or practice. It just is consciousness. Every science has certain concepts that are so fundamental to get abstract that we have a hard time finding the appropriate words to describe them. Ask a physicist and they'll tell you energy and space defies simple definitions. Biologists know if something is alive but have a harder time explaining what life actually...   \n",
              "645   Ever hear a really good joke about polio? Or made a casual reference to someone having hepatitis? Or maybe tease your buddy by saying he has muscular dystrophy. Of course you have never done that, because you are not a terrible person. You'd never make fun of someone for having a physical illness. But folks make all kinds of offhand remarks about people having mental illnesses and never give it a second thought. How often have you heard a person say that someone's psycho or skitso or bipolar OCD? Like a pretty much guarantee that the people who use those terms had no idea what they actual...   \n",
              "646   Nogipson did it, Tom Cruise nearly busted Oprah's couch doing it, and Kanye pretty much has owned it for years now. Talkin' about expressing too much emotion, usually in public, and in weird, and often insensitive ways. Such regrettable outbursts are not unique to celebrities, of course, and they can be enough to make us think of our emotions as irrational, but they're not. Well, not usually. and behave. Of course, when the blow up and someone screams at a flight at Dendent or Punch as a paparazzo or jumps on stage and grabs the microwave from a teenager in the middle of her acceptance sp...   \n",
              "\n",
              "              y  \\\n",
              "642  Psychology   \n",
              "643  Psychology   \n",
              "644  Psychology   \n",
              "645  Psychology   \n",
              "646  Psychology   \n",
              "\n",
              "                                                                                                                                                                                                                                                                                                                                                                           summary  \n",
              "642                        Our brains and our nervous systems in the substance as they produce in our always bathed in, our amazingly complex nuanced systems. The moods, ideas, impulses that flash through our minds are spurred by our biological condition. Psychologists like to say, everything psychological is biological  So one way to understand how your mind works is  \n",
              "643  Milgram began his work during the widely publicized trial of World War II Nazi War criminal Adolf Eichmann. Milgram recruited 40 male volunteers using newspaper ads and built a phony shock generator. He then paired each volunteer participant with someone who was also apparently a participant but was in fact one of Milgram's colleagues posing as a research subject  \n",
              "644                 consciousness allows us to contemplate life, think about infinity and ride a unicycle across a tightrope while juggling melons. For centuries, scientists learn what they could about the brain solely through clinical observation, and they learned a lot, for sure. With today's technology, we're actually able to see some of the structures and activity  \n",
              "645   At least the fifth of all people will experience a diagnosable anxiety disorder of some kind at some point in their lives. Obsessive compulsive disorder, or OCD, is characterized by unwanted, repetitive thoughts which become obsession. OCD is a debilitating condition whose sufferers take normal behaviors like washing your hands or double checking that you turned  \n",
              "646                                                      Nogipson, Tom Cruise and Kanye have all expressed too much emotion in public. Do bodily reactions come as a result of the thought I'm scared, or did my tweaking out body trigger the thought in my brain? These are just some of the questions that we'll be looking at in this messy, exhilarating and terrifying world  "
            ],
            "text/html": [
              "\n",
              "  <div id=\"df-6bdee3b4-0a8c-44bf-9c77-e3d393bc9e02\">\n",
              "    <div class=\"colab-df-container\">\n",
              "      <div>\n",
              "<style scoped>\n",
              "    .dataframe tbody tr th:only-of-type {\n",
              "        vertical-align: middle;\n",
              "    }\n",
              "\n",
              "    .dataframe tbody tr th {\n",
              "        vertical-align: top;\n",
              "    }\n",
              "\n",
              "    .dataframe thead th {\n",
              "        text-align: right;\n",
              "    }\n",
              "</style>\n",
              "<table border=\"1\" class=\"dataframe\">\n",
              "  <thead>\n",
              "    <tr style=\"text-align: right;\">\n",
              "      <th></th>\n",
              "      <th>x</th>\n",
              "      <th>y</th>\n",
              "      <th>summary</th>\n",
              "    </tr>\n",
              "  </thead>\n",
              "  <tbody>\n",
              "    <tr>\n",
              "      <th>642</th>\n",
              "      <td>Say it's late at night. You're home alone drifting off to sleep. Just entering that dream about fritos and then something is a banging at the door. Suddenly, your wide awake and it feels like your heart's gonna explode. You jump up, ready to run out the back door, possibly grab a Phillips head screwdriver and stab it into the darkness until it sticks into something. Now, whether it's a weeping angel or your neighbor looking to borrow a can of beans, it doesn't really matter because when you heard that sudden noise, your startled brain released an icy typhoon of chemicals. And everything t...</td>\n",
              "      <td>Psychology</td>\n",
              "      <td>Our brains and our nervous systems in the substance as they produce in our always bathed in, our amazingly complex nuanced systems. The moods, ideas, impulses that flash through our minds are spurred by our biological condition. Psychologists like to say, everything psychological is biological  So one way to understand how your mind works is</td>\n",
              "    </tr>\n",
              "    <tr>\n",
              "      <th>643</th>\n",
              "      <td>If someone in a position of authority told you to like stop walking on the grass, you would stop walking on the grass, right? And if they told you to help someone's grandma cross the street or pick up your dog's poop or put your shoes on before you go into a store, you probably comply. But what if they ordered you to physically hurt another person? You're probably thinking, no way, I could never do something like that. But there's a good chance you're wrong. began his work during the widely publicized trial of World War II Nazi War criminal Adolf Eichmann. Eichmann's defense, along with o...</td>\n",
              "      <td>Psychology</td>\n",
              "      <td>Milgram began his work during the widely publicized trial of World War II Nazi War criminal Adolf Eichmann. Milgram recruited 40 male volunteers using newspaper ads and built a phony shock generator. He then paired each volunteer participant with someone who was also apparently a participant but was in fact one of Milgram's colleagues posing as a research subject</td>\n",
              "    </tr>\n",
              "    <tr>\n",
              "      <th>644</th>\n",
              "      <td>Here's the riddle in my hobbits, is what's something that we all experience all the time that we can't really measure and barely have words to define. You can't hold it in your hand or take a bite out of it. It isn't something you learn or practice. It just is consciousness. Every science has certain concepts that are so fundamental to get abstract that we have a hard time finding the appropriate words to describe them. Ask a physicist and they'll tell you energy and space defies simple definitions. Biologists know if something is alive but have a harder time explaining what life actually...</td>\n",
              "      <td>Psychology</td>\n",
              "      <td>consciousness allows us to contemplate life, think about infinity and ride a unicycle across a tightrope while juggling melons. For centuries, scientists learn what they could about the brain solely through clinical observation, and they learned a lot, for sure. With today's technology, we're actually able to see some of the structures and activity</td>\n",
              "    </tr>\n",
              "    <tr>\n",
              "      <th>645</th>\n",
              "      <td>Ever hear a really good joke about polio? Or made a casual reference to someone having hepatitis? Or maybe tease your buddy by saying he has muscular dystrophy. Of course you have never done that, because you are not a terrible person. You'd never make fun of someone for having a physical illness. But folks make all kinds of offhand remarks about people having mental illnesses and never give it a second thought. How often have you heard a person say that someone's psycho or skitso or bipolar OCD? Like a pretty much guarantee that the people who use those terms had no idea what they actual...</td>\n",
              "      <td>Psychology</td>\n",
              "      <td>At least the fifth of all people will experience a diagnosable anxiety disorder of some kind at some point in their lives. Obsessive compulsive disorder, or OCD, is characterized by unwanted, repetitive thoughts which become obsession. OCD is a debilitating condition whose sufferers take normal behaviors like washing your hands or double checking that you turned</td>\n",
              "    </tr>\n",
              "    <tr>\n",
              "      <th>646</th>\n",
              "      <td>Nogipson did it, Tom Cruise nearly busted Oprah's couch doing it, and Kanye pretty much has owned it for years now. Talkin' about expressing too much emotion, usually in public, and in weird, and often insensitive ways. Such regrettable outbursts are not unique to celebrities, of course, and they can be enough to make us think of our emotions as irrational, but they're not. Well, not usually. and behave. Of course, when the blow up and someone screams at a flight at Dendent or Punch as a paparazzo or jumps on stage and grabs the microwave from a teenager in the middle of her acceptance sp...</td>\n",
              "      <td>Psychology</td>\n",
              "      <td>Nogipson, Tom Cruise and Kanye have all expressed too much emotion in public. Do bodily reactions come as a result of the thought I'm scared, or did my tweaking out body trigger the thought in my brain? These are just some of the questions that we'll be looking at in this messy, exhilarating and terrifying world</td>\n",
              "    </tr>\n",
              "  </tbody>\n",
              "</table>\n",
              "</div>\n",
              "      <button class=\"colab-df-convert\" onclick=\"convertToInteractive('df-6bdee3b4-0a8c-44bf-9c77-e3d393bc9e02')\"\n",
              "              title=\"Convert this dataframe to an interactive table.\"\n",
              "              style=\"display:none;\">\n",
              "        \n",
              "  <svg xmlns=\"http://www.w3.org/2000/svg\" height=\"24px\"viewBox=\"0 0 24 24\"\n",
              "       width=\"24px\">\n",
              "    <path d=\"M0 0h24v24H0V0z\" fill=\"none\"/>\n",
              "    <path d=\"M18.56 5.44l.94 2.06.94-2.06 2.06-.94-2.06-.94-.94-2.06-.94 2.06-2.06.94zm-11 1L8.5 8.5l.94-2.06 2.06-.94-2.06-.94L8.5 2.5l-.94 2.06-2.06.94zm10 10l.94 2.06.94-2.06 2.06-.94-2.06-.94-.94-2.06-.94 2.06-2.06.94z\"/><path d=\"M17.41 7.96l-1.37-1.37c-.4-.4-.92-.59-1.43-.59-.52 0-1.04.2-1.43.59L10.3 9.45l-7.72 7.72c-.78.78-.78 2.05 0 2.83L4 21.41c.39.39.9.59 1.41.59.51 0 1.02-.2 1.41-.59l7.78-7.78 2.81-2.81c.8-.78.8-2.07 0-2.86zM5.41 20L4 18.59l7.72-7.72 1.47 1.35L5.41 20z\"/>\n",
              "  </svg>\n",
              "      </button>\n",
              "      \n",
              "  <style>\n",
              "    .colab-df-container {\n",
              "      display:flex;\n",
              "      flex-wrap:wrap;\n",
              "      gap: 12px;\n",
              "    }\n",
              "\n",
              "    .colab-df-convert {\n",
              "      background-color: #E8F0FE;\n",
              "      border: none;\n",
              "      border-radius: 50%;\n",
              "      cursor: pointer;\n",
              "      display: none;\n",
              "      fill: #1967D2;\n",
              "      height: 32px;\n",
              "      padding: 0 0 0 0;\n",
              "      width: 32px;\n",
              "    }\n",
              "\n",
              "    .colab-df-convert:hover {\n",
              "      background-color: #E2EBFA;\n",
              "      box-shadow: 0px 1px 2px rgba(60, 64, 67, 0.3), 0px 1px 3px 1px rgba(60, 64, 67, 0.15);\n",
              "      fill: #174EA6;\n",
              "    }\n",
              "\n",
              "    [theme=dark] .colab-df-convert {\n",
              "      background-color: #3B4455;\n",
              "      fill: #D2E3FC;\n",
              "    }\n",
              "\n",
              "    [theme=dark] .colab-df-convert:hover {\n",
              "      background-color: #434B5C;\n",
              "      box-shadow: 0px 1px 3px 1px rgba(0, 0, 0, 0.15);\n",
              "      filter: drop-shadow(0px 1px 2px rgba(0, 0, 0, 0.3));\n",
              "      fill: #FFFFFF;\n",
              "    }\n",
              "  </style>\n",
              "\n",
              "      <script>\n",
              "        const buttonEl =\n",
              "          document.querySelector('#df-6bdee3b4-0a8c-44bf-9c77-e3d393bc9e02 button.colab-df-convert');\n",
              "        buttonEl.style.display =\n",
              "          google.colab.kernel.accessAllowed ? 'block' : 'none';\n",
              "\n",
              "        async function convertToInteractive(key) {\n",
              "          const element = document.querySelector('#df-6bdee3b4-0a8c-44bf-9c77-e3d393bc9e02');\n",
              "          const dataTable =\n",
              "            await google.colab.kernel.invokeFunction('convertToInteractive',\n",
              "                                                     [key], {});\n",
              "          if (!dataTable) return;\n",
              "\n",
              "          const docLinkHtml = 'Like what you see? Visit the ' +\n",
              "            '<a target=\"_blank\" href=https://colab.research.google.com/notebooks/data_table.ipynb>data table notebook</a>'\n",
              "            + ' to learn more about interactive tables.';\n",
              "          element.innerHTML = '';\n",
              "          dataTable['output_type'] = 'display_data';\n",
              "          await google.colab.output.renderOutput(dataTable, element);\n",
              "          const docLink = document.createElement('div');\n",
              "          docLink.innerHTML = docLinkHtml;\n",
              "          element.appendChild(docLink);\n",
              "        }\n",
              "      </script>\n",
              "    </div>\n",
              "  </div>\n",
              "  "
            ]
          },
          "metadata": {},
          "execution_count": 5
        }
      ]
    },
    {
      "cell_type": "code",
      "source": [
        "df = Dataset.from_pandas(data)\n",
        "df"
      ],
      "metadata": {
        "colab": {
          "base_uri": "https://localhost:8080/"
        },
        "id": "0M_HXxkBxZ1w",
        "outputId": "9299abfc-950b-4750-9929-af1a50279cea"
      },
      "execution_count": 6,
      "outputs": [
        {
          "output_type": "execute_result",
          "data": {
            "text/plain": [
              "Dataset({\n",
              "    features: ['x', 'y', 'summary'],\n",
              "    num_rows: 647\n",
              "})"
            ]
          },
          "metadata": {},
          "execution_count": 6
        }
      ]
    },
    {
      "cell_type": "code",
      "source": [
        "len(data['y'].unique())"
      ],
      "metadata": {
        "colab": {
          "base_uri": "https://localhost:8080/"
        },
        "id": "9-hUc-7w0OIy",
        "outputId": "226bde2b-c821-4f7e-bd21-fed99a7fad9a"
      },
      "execution_count": 7,
      "outputs": [
        {
          "output_type": "execute_result",
          "data": {
            "text/plain": [
              "12"
            ]
          },
          "metadata": {},
          "execution_count": 7
        }
      ]
    },
    {
      "cell_type": "code",
      "source": [
        "model_cls = AutoModelForSequenceClassification\n",
        "model_name = \"distilroberta-base\"\n",
        "\n",
        "config = AutoConfig.from_pretrained(model_name,num_labels = 12)\n",
        "config.num_labels = 12\n",
        "\n",
        "hf_arc,hf_config,hf_tokenizer,hf_model = get_hf_objects(model_name,model_cls=model_cls,config=config)"
      ],
      "metadata": {
        "id": "P2e1iy-S0BPi"
      },
      "execution_count": 9,
      "outputs": []
    },
    {
      "cell_type": "code",
      "source": [
        "blocks = (TextBlock(hf_arc,hf_config,hf_tokenizer,hf_model),CategoryBlock)"
      ],
      "metadata": {
        "id": "OeKfp8OK3VKf"
      },
      "execution_count": 10,
      "outputs": []
    },
    {
      "cell_type": "code",
      "source": [
        "dblock = DataBlock(blocks = blocks,get_x=ColReader('summary'),get_y=ColReader('y'),splitter=RandomSplitter(valid_pct = .1,seed =42))"
      ],
      "metadata": {
        "id": "46vLi6915-SC"
      },
      "execution_count": 11,
      "outputs": []
    },
    {
      "cell_type": "code",
      "source": [
        "dls = dblock.dataloaders(df,bs=16)"
      ],
      "metadata": {
        "id": "kMgqRMte6JM_"
      },
      "execution_count": 12,
      "outputs": []
    },
    {
      "cell_type": "code",
      "source": [
        "model = BaseModelWrapper(hf_model)"
      ],
      "metadata": {
        "id": "XG7tkpUi6Mdf"
      },
      "execution_count": 13,
      "outputs": []
    },
    {
      "cell_type": "code",
      "source": [
        "learner = Learner(dls,\n",
        "    model,\n",
        "    metrics = [accuracy],\n",
        "    cbs = [BaseModelCallback],\n",
        "    splitter = blurr_splitter\n",
        ").to_fp16()\n"
      ],
      "metadata": {
        "id": "p6WEogznBTqA"
      },
      "execution_count": 14,
      "outputs": []
    },
    {
      "cell_type": "code",
      "source": [
        "learner.freeze()\n",
        "learner.lr_find()"
      ],
      "metadata": {
        "colab": {
          "base_uri": "https://localhost:8080/",
          "height": 308
        },
        "id": "KJtJNHRSCP0_",
        "outputId": "2f4cef5d-4985-4a27-afbc-7d02e033338a"
      },
      "execution_count": 15,
      "outputs": [
        {
          "output_type": "display_data",
          "data": {
            "text/plain": [
              "<IPython.core.display.HTML object>"
            ],
            "text/html": [
              "\n",
              "<style>\n",
              "    /* Turns off some styling */\n",
              "    progress {\n",
              "        /* gets rid of default border in Firefox and Opera. */\n",
              "        border: none;\n",
              "        /* Needs to be in here for Safari polyfill so background images work as expected. */\n",
              "        background-size: auto;\n",
              "    }\n",
              "    progress:not([value]), progress:not([value])::-webkit-progress-bar {\n",
              "        background: repeating-linear-gradient(45deg, #7e7e7e, #7e7e7e 10px, #5c5c5c 10px, #5c5c5c 20px);\n",
              "    }\n",
              "    .progress-bar-interrupted, .progress-bar-interrupted::-webkit-progress-bar {\n",
              "        background: #F44336;\n",
              "    }\n",
              "</style>\n"
            ]
          },
          "metadata": {}
        },
        {
          "output_type": "display_data",
          "data": {
            "text/plain": [
              "<IPython.core.display.HTML object>"
            ],
            "text/html": []
          },
          "metadata": {}
        },
        {
          "output_type": "execute_result",
          "data": {
            "text/plain": [
              "SuggestedLRs(valley=0.0006918309954926372)"
            ]
          },
          "metadata": {},
          "execution_count": 15
        },
        {
          "output_type": "display_data",
          "data": {
            "text/plain": [
              "<Figure size 432x288 with 1 Axes>"
            ],
            "image/png": "[encoded data removed]"
          },
          "metadata": {
            "needs_background": "light"
          }
        }
      ]
    },
    {
      "cell_type": "code",
      "source": [
        "learner.fit_one_cycle(5,0.0006918309954926372)"
      ],
      "metadata": {
        "colab": {
          "base_uri": "https://localhost:8080/",
          "height": 206
        },
        "id": "EDd6zclOCeTA",
        "outputId": "d8892958-acd5-4219-ab04-f47d879c576d"
      },
      "execution_count": 16,
      "outputs": [
        {
          "output_type": "display_data",
          "data": {
            "text/plain": [
              "<IPython.core.display.HTML object>"
            ],
            "text/html": [
              "\n",
              "<style>\n",
              "    /* Turns off some styling */\n",
              "    progress {\n",
              "        /* gets rid of default border in Firefox and Opera. */\n",
              "        border: none;\n",
              "        /* Needs to be in here for Safari polyfill so background images work as expected. */\n",
              "        background-size: auto;\n",
              "    }\n",
              "    progress:not([value]), progress:not([value])::-webkit-progress-bar {\n",
              "        background: repeating-linear-gradient(45deg, #7e7e7e, #7e7e7e 10px, #5c5c5c 10px, #5c5c5c 20px);\n",
              "    }\n",
              "    .progress-bar-interrupted, .progress-bar-interrupted::-webkit-progress-bar {\n",
              "        background: #F44336;\n",
              "    }\n",
              "</style>\n"
            ]
          },
          "metadata": {}
        },
        {
          "output_type": "display_data",
          "data": {
            "text/plain": [
              "<IPython.core.display.HTML object>"
            ],
            "text/html": [
              "<table border=\"1\" class=\"dataframe\">\n",
              "  <thead>\n",
              "    <tr style=\"text-align: left;\">\n",
              "      <th>epoch</th>\n",
              "      <th>train_loss</th>\n",
              "      <th>valid_loss</th>\n",
              "      <th>accuracy</th>\n",
              "      <th>time</th>\n",
              "    </tr>\n",
              "  </thead>\n",
              "  <tbody>\n",
              "    <tr>\n",
              "      <td>0</td>\n",
              "      <td>2.387632</td>\n",
              "      <td>2.169491</td>\n",
              "      <td>0.343750</td>\n",
              "      <td>00:02</td>\n",
              "    </tr>\n",
              "    <tr>\n",
              "      <td>1</td>\n",
              "      <td>1.440600</td>\n",
              "      <td>0.357519</td>\n",
              "      <td>0.890625</td>\n",
              "      <td>00:02</td>\n",
              "    </tr>\n",
              "    <tr>\n",
              "      <td>2</td>\n",
              "      <td>0.782928</td>\n",
              "      <td>0.347380</td>\n",
              "      <td>0.890625</td>\n",
              "      <td>00:05</td>\n",
              "    </tr>\n",
              "    <tr>\n",
              "      <td>3</td>\n",
              "      <td>0.454237</td>\n",
              "      <td>0.258352</td>\n",
              "      <td>0.921875</td>\n",
              "      <td>00:01</td>\n",
              "    </tr>\n",
              "    <tr>\n",
              "      <td>4</td>\n",
              "      <td>0.290102</td>\n",
              "      <td>0.267618</td>\n",
              "      <td>0.937500</td>\n",
              "      <td>00:01</td>\n",
              "    </tr>\n",
              "  </tbody>\n",
              "</table>"
            ]
          },
          "metadata": {}
        }
      ]
    },
    {
      "cell_type": "code",
      "source": [
        "learner.unfreeze()\n",
        "learner.lr_find()"
      ],
      "metadata": {
        "colab": {
          "base_uri": "https://localhost:8080/",
          "height": 306
        },
        "id": "IXKaCd7XCy9x",
        "outputId": "3445a02d-de5b-4905-d837-bccb09d8915a"
      },
      "execution_count": 17,
      "outputs": [
        {
          "output_type": "display_data",
          "data": {
            "text/plain": [
              "<IPython.core.display.HTML object>"
            ],
            "text/html": [
              "\n",
              "<style>\n",
              "    /* Turns off some styling */\n",
              "    progress {\n",
              "        /* gets rid of default border in Firefox and Opera. */\n",
              "        border: none;\n",
              "        /* Needs to be in here for Safari polyfill so background images work as expected. */\n",
              "        background-size: auto;\n",
              "    }\n",
              "    progress:not([value]), progress:not([value])::-webkit-progress-bar {\n",
              "        background: repeating-linear-gradient(45deg, #7e7e7e, #7e7e7e 10px, #5c5c5c 10px, #5c5c5c 20px);\n",
              "    }\n",
              "    .progress-bar-interrupted, .progress-bar-interrupted::-webkit-progress-bar {\n",
              "        background: #F44336;\n",
              "    }\n",
              "</style>\n"
            ]
          },
          "metadata": {}
        },
        {
          "output_type": "display_data",
          "data": {
            "text/plain": [
              "<IPython.core.display.HTML object>"
            ],
            "text/html": []
          },
          "metadata": {}
        },
        {
          "output_type": "execute_result",
          "data": {
            "text/plain": [
              "SuggestedLRs(valley=3.0199516913853586e-05)"
            ]
          },
          "metadata": {},
          "execution_count": 17
        },
        {
          "output_type": "display_data",
          "data": {
            "text/plain": [
              "<Figure size 432x288 with 1 Axes>"
            ],
            "image/png": "[encoded data removed]"
          },
          "metadata": {
            "needs_background": "light"
          }
        }
      ]
    },
    {
      "cell_type": "code",
      "source": [
        "learner.fit_one_cycle(10,3.0199516913853586e-05)"
      ],
      "metadata": {
        "colab": {
          "base_uri": "https://localhost:8080/",
          "height": 363
        },
        "id": "Kr-oXJJ8DOUr",
        "outputId": "daafb02c-c3d2-49ea-f25e-dd69544fc5b7"
      },
      "execution_count": 18,
      "outputs": [
        {
          "output_type": "display_data",
          "data": {
            "text/plain": [
              "<IPython.core.display.HTML object>"
            ],
            "text/html": [
              "\n",
              "<style>\n",
              "    /* Turns off some styling */\n",
              "    progress {\n",
              "        /* gets rid of default border in Firefox and Opera. */\n",
              "        border: none;\n",
              "        /* Needs to be in here for Safari polyfill so background images work as expected. */\n",
              "        background-size: auto;\n",
              "    }\n",
              "    progress:not([value]), progress:not([value])::-webkit-progress-bar {\n",
              "        background: repeating-linear-gradient(45deg, #7e7e7e, #7e7e7e 10px, #5c5c5c 10px, #5c5c5c 20px);\n",
              "    }\n",
              "    .progress-bar-interrupted, .progress-bar-interrupted::-webkit-progress-bar {\n",
              "        background: #F44336;\n",
              "    }\n",
              "</style>\n"
            ]
          },
          "metadata": {}
        },
        {
          "output_type": "display_data",
          "data": {
            "text/plain": [
              "<IPython.core.display.HTML object>"
            ],
            "text/html": [
              "<table border=\"1\" class=\"dataframe\">\n",
              "  <thead>\n",
              "    <tr style=\"text-align: left;\">\n",
              "      <th>epoch</th>\n",
              "      <th>train_loss</th>\n",
              "      <th>valid_loss</th>\n",
              "      <th>accuracy</th>\n",
              "      <th>time</th>\n",
              "    </tr>\n",
              "  </thead>\n",
              "  <tbody>\n",
              "    <tr>\n",
              "      <td>0</td>\n",
              "      <td>0.127024</td>\n",
              "      <td>0.267810</td>\n",
              "      <td>0.921875</td>\n",
              "      <td>00:04</td>\n",
              "    </tr>\n",
              "    <tr>\n",
              "      <td>1</td>\n",
              "      <td>0.122342</td>\n",
              "      <td>0.297842</td>\n",
              "      <td>0.890625</td>\n",
              "      <td>00:03</td>\n",
              "    </tr>\n",
              "    <tr>\n",
              "      <td>2</td>\n",
              "      <td>0.091335</td>\n",
              "      <td>0.307125</td>\n",
              "      <td>0.890625</td>\n",
              "      <td>00:03</td>\n",
              "    </tr>\n",
              "    <tr>\n",
              "      <td>3</td>\n",
              "      <td>0.071898</td>\n",
              "      <td>0.297538</td>\n",
              "      <td>0.906250</td>\n",
              "      <td>00:03</td>\n",
              "    </tr>\n",
              "    <tr>\n",
              "      <td>4</td>\n",
              "      <td>0.048116</td>\n",
              "      <td>0.394870</td>\n",
              "      <td>0.875000</td>\n",
              "      <td>00:03</td>\n",
              "    </tr>\n",
              "    <tr>\n",
              "      <td>5</td>\n",
              "      <td>0.037330</td>\n",
              "      <td>0.267363</td>\n",
              "      <td>0.921875</td>\n",
              "      <td>00:03</td>\n",
              "    </tr>\n",
              "    <tr>\n",
              "      <td>6</td>\n",
              "      <td>0.020621</td>\n",
              "      <td>0.269416</td>\n",
              "      <td>0.906250</td>\n",
              "      <td>00:03</td>\n",
              "    </tr>\n",
              "    <tr>\n",
              "      <td>7</td>\n",
              "      <td>0.011680</td>\n",
              "      <td>0.270682</td>\n",
              "      <td>0.906250</td>\n",
              "      <td>00:03</td>\n",
              "    </tr>\n",
              "    <tr>\n",
              "      <td>8</td>\n",
              "      <td>0.007515</td>\n",
              "      <td>0.273457</td>\n",
              "      <td>0.906250</td>\n",
              "      <td>00:03</td>\n",
              "    </tr>\n",
              "    <tr>\n",
              "      <td>9</td>\n",
              "      <td>0.005313</td>\n",
              "      <td>0.273430</td>\n",
              "      <td>0.906250</td>\n",
              "      <td>00:03</td>\n",
              "    </tr>\n",
              "  </tbody>\n",
              "</table>"
            ]
          },
          "metadata": {}
        }
      ]
    },
    {
      "cell_type": "code",
      "source": [
        "learner.export('model1.pkl')"
      ],
      "metadata": {
        "id": "Y8O6f_e7N1oH"
      },
      "execution_count": 20,
      "outputs": []
    },
    {
      "cell_type": "code",
      "source": [
        "learner.blurr_predict(\"Nogipson, Tom Cruise and Kanye have all expressed too much emotion in public. Do bodily reactions come as a result of the thought I'm scared, or did my tweaking out body trigger the thought in my brain? These are just some of the questions that we'll be looking at in this messy, exhilarating and terrifying world\")"
      ],
      "metadata": {
        "colab": {
          "base_uri": "https://localhost:8080/"
        },
        "id": "NdIopJbBGNU1",
        "outputId": "5ed70580-5e6a-4981-a58f-033f2325e2b5"
      },
      "execution_count": 24,
      "outputs": [
        {
          "output_type": "execute_result",
          "data": {
            "text/plain": [
              "[{'label': 'P',\n",
              "  'score': 0.9955638647079468,\n",
              "  'class_index': 10,\n",
              "  'class_labels': ['Art', 'Astrology', 'Biology', 'Chemistry', 'Economics', 'History', 'Literature', 'Philosophy', 'Physics', 'Politics', 'Psychology', 'Sociology'],\n",
              "  'probs': [0.0013951428700238466,\n",
              "   0.00010606922296574339,\n",
              "   3.485856723273173e-05,\n",
              "   0.00020062322437297553,\n",
              "   1.7493786799605004e-05,\n",
              "   4.4752605390385725e-06,\n",
              "   0.0005001325625926256,\n",
              "   0.0020062713883817196,\n",
              "   6.666875560767949e-05,\n",
              "   2.097825381497387e-05,\n",
              "   0.9955638647079468,\n",
              "   8.341744978679344e-05]}]"
            ]
          },
          "metadata": {},
          "execution_count": 24
        }
      ]
    },
    {
      "cell_type": "code",
      "source": [],
      "metadata": {
        "id": "qAg7tur_G498"
      },
      "execution_count": null,
      "outputs": []
    }
  ]
}